{
  "nbformat": 4,
  "nbformat_minor": 0,
  "metadata": {
    "colab": {
      "provenance": []
    },
    "kernelspec": {
      "name": "python3",
      "display_name": "Python 3"
    },
    "language_info": {
      "name": "python"
    }
  },
  "cells": [
    {
      "cell_type": "markdown",
      "source": [
        "# **Laboratorijska vježba 6**: Zadaci za samostalni rad\n",
        "\n",
        "## **Predviđanje preživaljvanja u potopu Titanika**\n",
        "\n",
        "U ovoj laboratorijskoj vježbi istražit ćemo skup podataka koji sadrži podatke o putnicima Titanika te informaciju jesu li preživjeli potop. Ovaj skup podataka jedan od najpopularnijih skupova na stranici Kaggle jer dobro služi za uvođenje u rješavanje problema klasifikacije. Skup podataka sadrži sljedeće značajke:\n",
        "\n",
        "* name - naziv putnika\n",
        "* sex - spol putnika\n",
        "* dob - dob putnika\n",
        "* sibsp - broj braće/sestara/supružnika putnika na brodu\n",
        "* parch - broj roditelja/djece putnika na brodu\n",
        "* ticket - broj karte putnika\n",
        "* fare - cijena karte putnika\n",
        "* cabin - broj kabine putnika\n",
        "* embarked - luka ukrcaja putnika\n",
        "\n",
        "te izlaznu varijablu:\n",
        "\n",
        "* survived - informacija je li putnik preživio katastrofu ili ne."
      ],
      "metadata": {
        "id": "7OZhcNZV1NaY"
      }
    },
    {
      "cell_type": "code",
      "source": [
        "import pandas as pd\n",
        "import numpy as np\n",
        "import matplotlib.pyplot as plt\n",
        "import seaborn as sns\n",
        "%matplotlib inline"
      ],
      "metadata": {
        "id": "RBKtPFAy2WVe"
      },
      "execution_count": null,
      "outputs": []
    },
    {
      "cell_type": "code",
      "source": [
        "titanic = pd.read_csv('data/titanic.csv')\n",
        "titanic.head(5)"
      ],
      "metadata": {
        "id": "T6jEoHCX2d4n",
        "colab": {
          "base_uri": "https://localhost:8080/",
          "height": 206
        },
        "outputId": "b0a04c2c-06c3-466d-ba50-da89fc59497e"
      },
      "execution_count": null,
      "outputs": [
        {
          "output_type": "execute_result",
          "data": {
            "text/plain": [
              "   survived  surname                                     name     sex  \\\n",
              "0         1    Allen                   Miss. Elisabeth Walton  female   \n",
              "1         1  Allison                    Master. Hudson Trevor    male   \n",
              "2         0  Allison                      Miss. Helen Loraine  female   \n",
              "3         0  Allison              Mr. Hudson Joshua Creighton    male   \n",
              "4         0  Allison   Mrs. Hudson J C (Bessie Waldo Daniels)  female   \n",
              "\n",
              "       age  sibsp  parch  ticket      fare    cabin embarked  \n",
              "0  29.0000      0      0   24160  211.3375       B5        S  \n",
              "1   0.9167      1      2  113781  151.5500  C22 C26        S  \n",
              "2   2.0000      1      2  113781  151.5500  C22 C26        S  \n",
              "3  30.0000      1      2  113781  151.5500  C22 C26        S  \n",
              "4  25.0000      1      2  113781  151.5500  C22 C26        S  "
            ],
            "text/html": [
              "\n",
              "  <div id=\"df-3d6db969-1f92-4030-bf48-9493754412d2\">\n",
              "    <div class=\"colab-df-container\">\n",
              "      <div>\n",
              "<style scoped>\n",
              "    .dataframe tbody tr th:only-of-type {\n",
              "        vertical-align: middle;\n",
              "    }\n",
              "\n",
              "    .dataframe tbody tr th {\n",
              "        vertical-align: top;\n",
              "    }\n",
              "\n",
              "    .dataframe thead th {\n",
              "        text-align: right;\n",
              "    }\n",
              "</style>\n",
              "<table border=\"1\" class=\"dataframe\">\n",
              "  <thead>\n",
              "    <tr style=\"text-align: right;\">\n",
              "      <th></th>\n",
              "      <th>survived</th>\n",
              "      <th>surname</th>\n",
              "      <th>name</th>\n",
              "      <th>sex</th>\n",
              "      <th>age</th>\n",
              "      <th>sibsp</th>\n",
              "      <th>parch</th>\n",
              "      <th>ticket</th>\n",
              "      <th>fare</th>\n",
              "      <th>cabin</th>\n",
              "      <th>embarked</th>\n",
              "    </tr>\n",
              "  </thead>\n",
              "  <tbody>\n",
              "    <tr>\n",
              "      <th>0</th>\n",
              "      <td>1</td>\n",
              "      <td>Allen</td>\n",
              "      <td>Miss. Elisabeth Walton</td>\n",
              "      <td>female</td>\n",
              "      <td>29.0000</td>\n",
              "      <td>0</td>\n",
              "      <td>0</td>\n",
              "      <td>24160</td>\n",
              "      <td>211.3375</td>\n",
              "      <td>B5</td>\n",
              "      <td>S</td>\n",
              "    </tr>\n",
              "    <tr>\n",
              "      <th>1</th>\n",
              "      <td>1</td>\n",
              "      <td>Allison</td>\n",
              "      <td>Master. Hudson Trevor</td>\n",
              "      <td>male</td>\n",
              "      <td>0.9167</td>\n",
              "      <td>1</td>\n",
              "      <td>2</td>\n",
              "      <td>113781</td>\n",
              "      <td>151.5500</td>\n",
              "      <td>C22 C26</td>\n",
              "      <td>S</td>\n",
              "    </tr>\n",
              "    <tr>\n",
              "      <th>2</th>\n",
              "      <td>0</td>\n",
              "      <td>Allison</td>\n",
              "      <td>Miss. Helen Loraine</td>\n",
              "      <td>female</td>\n",
              "      <td>2.0000</td>\n",
              "      <td>1</td>\n",
              "      <td>2</td>\n",
              "      <td>113781</td>\n",
              "      <td>151.5500</td>\n",
              "      <td>C22 C26</td>\n",
              "      <td>S</td>\n",
              "    </tr>\n",
              "    <tr>\n",
              "      <th>3</th>\n",
              "      <td>0</td>\n",
              "      <td>Allison</td>\n",
              "      <td>Mr. Hudson Joshua Creighton</td>\n",
              "      <td>male</td>\n",
              "      <td>30.0000</td>\n",
              "      <td>1</td>\n",
              "      <td>2</td>\n",
              "      <td>113781</td>\n",
              "      <td>151.5500</td>\n",
              "      <td>C22 C26</td>\n",
              "      <td>S</td>\n",
              "    </tr>\n",
              "    <tr>\n",
              "      <th>4</th>\n",
              "      <td>0</td>\n",
              "      <td>Allison</td>\n",
              "      <td>Mrs. Hudson J C (Bessie Waldo Daniels)</td>\n",
              "      <td>female</td>\n",
              "      <td>25.0000</td>\n",
              "      <td>1</td>\n",
              "      <td>2</td>\n",
              "      <td>113781</td>\n",
              "      <td>151.5500</td>\n",
              "      <td>C22 C26</td>\n",
              "      <td>S</td>\n",
              "    </tr>\n",
              "  </tbody>\n",
              "</table>\n",
              "</div>\n",
              "      <button class=\"colab-df-convert\" onclick=\"convertToInteractive('df-3d6db969-1f92-4030-bf48-9493754412d2')\"\n",
              "              title=\"Convert this dataframe to an interactive table.\"\n",
              "              style=\"display:none;\">\n",
              "        \n",
              "  <svg xmlns=\"http://www.w3.org/2000/svg\" height=\"24px\"viewBox=\"0 0 24 24\"\n",
              "       width=\"24px\">\n",
              "    <path d=\"M0 0h24v24H0V0z\" fill=\"none\"/>\n",
              "    <path d=\"M18.56 5.44l.94 2.06.94-2.06 2.06-.94-2.06-.94-.94-2.06-.94 2.06-2.06.94zm-11 1L8.5 8.5l.94-2.06 2.06-.94-2.06-.94L8.5 2.5l-.94 2.06-2.06.94zm10 10l.94 2.06.94-2.06 2.06-.94-2.06-.94-.94-2.06-.94 2.06-2.06.94z\"/><path d=\"M17.41 7.96l-1.37-1.37c-.4-.4-.92-.59-1.43-.59-.52 0-1.04.2-1.43.59L10.3 9.45l-7.72 7.72c-.78.78-.78 2.05 0 2.83L4 21.41c.39.39.9.59 1.41.59.51 0 1.02-.2 1.41-.59l7.78-7.78 2.81-2.81c.8-.78.8-2.07 0-2.86zM5.41 20L4 18.59l7.72-7.72 1.47 1.35L5.41 20z\"/>\n",
              "  </svg>\n",
              "      </button>\n",
              "      \n",
              "  <style>\n",
              "    .colab-df-container {\n",
              "      display:flex;\n",
              "      flex-wrap:wrap;\n",
              "      gap: 12px;\n",
              "    }\n",
              "\n",
              "    .colab-df-convert {\n",
              "      background-color: #E8F0FE;\n",
              "      border: none;\n",
              "      border-radius: 50%;\n",
              "      cursor: pointer;\n",
              "      display: none;\n",
              "      fill: #1967D2;\n",
              "      height: 32px;\n",
              "      padding: 0 0 0 0;\n",
              "      width: 32px;\n",
              "    }\n",
              "\n",
              "    .colab-df-convert:hover {\n",
              "      background-color: #E2EBFA;\n",
              "      box-shadow: 0px 1px 2px rgba(60, 64, 67, 0.3), 0px 1px 3px 1px rgba(60, 64, 67, 0.15);\n",
              "      fill: #174EA6;\n",
              "    }\n",
              "\n",
              "    [theme=dark] .colab-df-convert {\n",
              "      background-color: #3B4455;\n",
              "      fill: #D2E3FC;\n",
              "    }\n",
              "\n",
              "    [theme=dark] .colab-df-convert:hover {\n",
              "      background-color: #434B5C;\n",
              "      box-shadow: 0px 1px 3px 1px rgba(0, 0, 0, 0.15);\n",
              "      filter: drop-shadow(0px 1px 2px rgba(0, 0, 0, 0.3));\n",
              "      fill: #FFFFFF;\n",
              "    }\n",
              "  </style>\n",
              "\n",
              "      <script>\n",
              "        const buttonEl =\n",
              "          document.querySelector('#df-3d6db969-1f92-4030-bf48-9493754412d2 button.colab-df-convert');\n",
              "        buttonEl.style.display =\n",
              "          google.colab.kernel.accessAllowed ? 'block' : 'none';\n",
              "\n",
              "        async function convertToInteractive(key) {\n",
              "          const element = document.querySelector('#df-3d6db969-1f92-4030-bf48-9493754412d2');\n",
              "          const dataTable =\n",
              "            await google.colab.kernel.invokeFunction('convertToInteractive',\n",
              "                                                     [key], {});\n",
              "          if (!dataTable) return;\n",
              "\n",
              "          const docLinkHtml = 'Like what you see? Visit the ' +\n",
              "            '<a target=\"_blank\" href=https://colab.research.google.com/notebooks/data_table.ipynb>data table notebook</a>'\n",
              "            + ' to learn more about interactive tables.';\n",
              "          element.innerHTML = '';\n",
              "          dataTable['output_type'] = 'display_data';\n",
              "          await google.colab.output.renderOutput(dataTable, element);\n",
              "          const docLink = document.createElement('div');\n",
              "          docLink.innerHTML = docLinkHtml;\n",
              "          element.appendChild(docLink);\n",
              "        }\n",
              "      </script>\n",
              "    </div>\n",
              "  </div>\n",
              "  "
            ]
          },
          "metadata": {},
          "execution_count": 2
        }
      ]
    },
    {
      "cell_type": "markdown",
      "source": [
        "## **Zadatak 1: Istraživanje skupa podataka**\n",
        "\n",
        "Istražite skup podataka na način da izračunate deskriptivnu statistiku za izlaznu varijablu. Prokomentirajte koji je udio preživjelih u potonuću Titanika."
      ],
      "metadata": {
        "id": "oK-DNvDJ2hkX"
      }
    },
    {
      "cell_type": "code",
      "source": [
        "# calculates descriptive statistics such as count, mean, standard deviation, minimum value, and maximum value\n",
        "\n",
        "survived_statistics = titanic['survived'].describe()\n",
        "print(survived_statistics)\n",
        "\n",
        "\n",
        "survived_count = titanic['survived'].value_counts()[1]\n",
        "print('Number of survivors:', survived_count)"
      ],
      "metadata": {
        "id": "dWE8_auZl1qX",
        "colab": {
          "base_uri": "https://localhost:8080/"
        },
        "outputId": "71460a4a-8fad-410b-cb72-5cfaeb39757c"
      },
      "execution_count": null,
      "outputs": [
        {
          "output_type": "stream",
          "name": "stdout",
          "text": [
            "count    1309.000000\n",
            "mean        0.381971\n",
            "std         0.486055\n",
            "min         0.000000\n",
            "25%         0.000000\n",
            "50%         0.000000\n",
            "75%         1.000000\n",
            "max         1.000000\n",
            "Name: survived, dtype: float64\n",
            "Number of survivors: 500\n"
          ]
        }
      ]
    },
    {
      "cell_type": "markdown",
      "source": [
        "Nacrtajte dijagram raspršenosti između izlazne varijable i svakog pojedinog stupca u skupu podataka. Pomoć: možete koristiti matricu dijagrama raspršenosti iz biblioteke pandas."
      ],
      "metadata": {
        "id": "YTbjg8rUmg7n"
      }
    },
    {
      "cell_type": "code",
      "source": [
        "# titanic.drop(['name', 'ticket','surname'], axis=1, inplace=True)\n",
        "# titanic.dtypes\n",
        "# titanic['embarked'].unique()\n",
        "# titanic['sex'].unique()\n",
        "\n",
        "\n",
        "# titanic[\"embarked\"] = pd.Categorical(titanic[\"embarked\"])\n",
        "# titanic.fillna(titanic.mean(), inplace=True)\n",
        "# titanic[\"embarked\"] = titanic[\"embarked\"].cat.codes\n",
        "\n",
        "# titanic['sex'] = pd.get_dummies(titanic['sex'])['male']\n",
        "\n",
        "# #sns.pairplot(titanic, hue='survived')\n",
        "# pd.plotting.scatter_matrix(titanic, figsize=(15, 15), alpha=0.5, diagonal='hist')\n",
        "\n",
        "\n",
        "\n",
        "columns = [\"survived\", \"age\", \"sibsp\", \"parch\", \"embarked\"]  \n",
        "\n",
        "pd.plotting.scatter_matrix(titanic[columns], figsize=(14, 14))\n",
        "plt.show()\n"
      ],
      "metadata": {
        "id": "Y1AOhOvcmzze",
        "colab": {
          "base_uri": "https://localhost:8080/",
          "height": 1000
        },
        "outputId": "38102315-238f-4e0d-bc33-4528927919b0"
      },
      "execution_count": null,
      "outputs": [
        {
          "output_type": "display_data",
          "data": {
            "text/plain": [
              "<Figure size 1400x1400 with 16 Axes>"
            ],
            "image/png": "[encoded data removed]"
          },
          "metadata": {}
        }
      ]
    },
    {
      "cell_type": "markdown",
      "source": [
        "Odaberite značajke koje su po Vašem mišljenju bitne za klasifikaciju preživjelih i preminulih putnika. Kategoričke stupce pretvorite u numeričke pomoću *get_dummies()* funkcije iz biblioteke pandas. Provjerite ima li nedostajućih vrijednosti u nekom od stupaca te ih popunite na prikladan način (prosječna vrijednost, medijan, najčešća vrijednost,...). "
      ],
      "metadata": {
        "id": "YuMorvTBl9F4"
      }
    },
    {
      "cell_type": "code",
      "source": [
        "titanic = pd.read_csv(\"data/titanic.csv\")\n",
        "\n",
        "titanic[\"cabin\"].fillna(titanic[\"cabin\"].mode()[0],inplace=True)\n",
        "titanic[\"age\"].fillna(titanic[\"age\"].mean(),inplace=True)\n",
        "\n",
        "sex=pd.get_dummies(titanic[\"sex\"])\n",
        "cabin=pd.get_dummies(titanic[\"cabin\"])\n",
        "\n",
        "\n",
        "data = titanic[[\"age\",\"sibsp\",\"parch\",\"embarked\"]]\n",
        "data = pd.get_dummies(data, columns=['embarked'])\n",
        "\n",
        "data = pd.concat([data,sex],axis=1)\n",
        "data = pd.concat([data,cabin],axis=1)\n",
        "data = pd.concat([data,titanic[\"survived\"]],axis=1)\n",
        "data.head()"
      ],
      "metadata": {
        "id": "S-MpnCE1mRwE",
        "colab": {
          "base_uri": "https://localhost:8080/",
          "height": 236
        },
        "outputId": "06477076-2893-418c-ca92-4201a57f013f"
      },
      "execution_count": null,
      "outputs": [
        {
          "output_type": "execute_result",
          "data": {
            "text/plain": [
              "       age  sibsp  parch  embarked_C  embarked_Q  embarked_S  female  male  \\\n",
              "0  29.0000      0      0           0           0           1       1     0   \n",
              "1   0.9167      1      2           0           0           1       0     1   \n",
              "2   2.0000      1      2           0           0           1       1     0   \n",
              "3  30.0000      1      2           0           0           1       0     1   \n",
              "4  25.0000      1      2           0           0           1       1     0   \n",
              "\n",
              "   A10  A11  ...  F E69  F G63  F G73  F2  F33  F38  F4  G6  T  survived  \n",
              "0    0    0  ...      0      0      0   0    0    0   0   0  0         1  \n",
              "1    0    0  ...      0      0      0   0    0    0   0   0  0         1  \n",
              "2    0    0  ...      0      0      0   0    0    0   0   0  0         0  \n",
              "3    0    0  ...      0      0      0   0    0    0   0   0  0         0  \n",
              "4    0    0  ...      0      0      0   0    0    0   0   0  0         0  \n",
              "\n",
              "[5 rows x 195 columns]"
            ],
            "text/html": [
              "\n",
              "  <div id=\"df-d8daf1e5-11d8-478d-9177-f03f5d46589a\">\n",
              "    <div class=\"colab-df-container\">\n",
              "      <div>\n",
              "<style scoped>\n",
              "    .dataframe tbody tr th:only-of-type {\n",
              "        vertical-align: middle;\n",
              "    }\n",
              "\n",
              "    .dataframe tbody tr th {\n",
              "        vertical-align: top;\n",
              "    }\n",
              "\n",
              "    .dataframe thead th {\n",
              "        text-align: right;\n",
              "    }\n",
              "</style>\n",
              "<table border=\"1\" class=\"dataframe\">\n",
              "  <thead>\n",
              "    <tr style=\"text-align: right;\">\n",
              "      <th></th>\n",
              "      <th>age</th>\n",
              "      <th>sibsp</th>\n",
              "      <th>parch</th>\n",
              "      <th>embarked_C</th>\n",
              "      <th>embarked_Q</th>\n",
              "      <th>embarked_S</th>\n",
              "      <th>female</th>\n",
              "      <th>male</th>\n",
              "      <th>A10</th>\n",
              "      <th>A11</th>\n",
              "      <th>...</th>\n",
              "      <th>F E69</th>\n",
              "      <th>F G63</th>\n",
              "      <th>F G73</th>\n",
              "      <th>F2</th>\n",
              "      <th>F33</th>\n",
              "      <th>F38</th>\n",
              "      <th>F4</th>\n",
              "      <th>G6</th>\n",
              "      <th>T</th>\n",
              "      <th>survived</th>\n",
              "    </tr>\n",
              "  </thead>\n",
              "  <tbody>\n",
              "    <tr>\n",
              "      <th>0</th>\n",
              "      <td>29.0000</td>\n",
              "      <td>0</td>\n",
              "      <td>0</td>\n",
              "      <td>0</td>\n",
              "      <td>0</td>\n",
              "      <td>1</td>\n",
              "      <td>1</td>\n",
              "      <td>0</td>\n",
              "      <td>0</td>\n",
              "      <td>0</td>\n",
              "      <td>...</td>\n",
              "      <td>0</td>\n",
              "      <td>0</td>\n",
              "      <td>0</td>\n",
              "      <td>0</td>\n",
              "      <td>0</td>\n",
              "      <td>0</td>\n",
              "      <td>0</td>\n",
              "      <td>0</td>\n",
              "      <td>0</td>\n",
              "      <td>1</td>\n",
              "    </tr>\n",
              "    <tr>\n",
              "      <th>1</th>\n",
              "      <td>0.9167</td>\n",
              "      <td>1</td>\n",
              "      <td>2</td>\n",
              "      <td>0</td>\n",
              "      <td>0</td>\n",
              "      <td>1</td>\n",
              "      <td>0</td>\n",
              "      <td>1</td>\n",
              "      <td>0</td>\n",
              "      <td>0</td>\n",
              "      <td>...</td>\n",
              "      <td>0</td>\n",
              "      <td>0</td>\n",
              "      <td>0</td>\n",
              "      <td>0</td>\n",
              "      <td>0</td>\n",
              "      <td>0</td>\n",
              "      <td>0</td>\n",
              "      <td>0</td>\n",
              "      <td>0</td>\n",
              "      <td>1</td>\n",
              "    </tr>\n",
              "    <tr>\n",
              "      <th>2</th>\n",
              "      <td>2.0000</td>\n",
              "      <td>1</td>\n",
              "      <td>2</td>\n",
              "      <td>0</td>\n",
              "      <td>0</td>\n",
              "      <td>1</td>\n",
              "      <td>1</td>\n",
              "      <td>0</td>\n",
              "      <td>0</td>\n",
              "      <td>0</td>\n",
              "      <td>...</td>\n",
              "      <td>0</td>\n",
              "      <td>0</td>\n",
              "      <td>0</td>\n",
              "      <td>0</td>\n",
              "      <td>0</td>\n",
              "      <td>0</td>\n",
              "      <td>0</td>\n",
              "      <td>0</td>\n",
              "      <td>0</td>\n",
              "      <td>0</td>\n",
              "    </tr>\n",
              "    <tr>\n",
              "      <th>3</th>\n",
              "      <td>30.0000</td>\n",
              "      <td>1</td>\n",
              "      <td>2</td>\n",
              "      <td>0</td>\n",
              "      <td>0</td>\n",
              "      <td>1</td>\n",
              "      <td>0</td>\n",
              "      <td>1</td>\n",
              "      <td>0</td>\n",
              "      <td>0</td>\n",
              "      <td>...</td>\n",
              "      <td>0</td>\n",
              "      <td>0</td>\n",
              "      <td>0</td>\n",
              "      <td>0</td>\n",
              "      <td>0</td>\n",
              "      <td>0</td>\n",
              "      <td>0</td>\n",
              "      <td>0</td>\n",
              "      <td>0</td>\n",
              "      <td>0</td>\n",
              "    </tr>\n",
              "    <tr>\n",
              "      <th>4</th>\n",
              "      <td>25.0000</td>\n",
              "      <td>1</td>\n",
              "      <td>2</td>\n",
              "      <td>0</td>\n",
              "      <td>0</td>\n",
              "      <td>1</td>\n",
              "      <td>1</td>\n",
              "      <td>0</td>\n",
              "      <td>0</td>\n",
              "      <td>0</td>\n",
              "      <td>...</td>\n",
              "      <td>0</td>\n",
              "      <td>0</td>\n",
              "      <td>0</td>\n",
              "      <td>0</td>\n",
              "      <td>0</td>\n",
              "      <td>0</td>\n",
              "      <td>0</td>\n",
              "      <td>0</td>\n",
              "      <td>0</td>\n",
              "      <td>0</td>\n",
              "    </tr>\n",
              "  </tbody>\n",
              "</table>\n",
              "<p>5 rows × 195 columns</p>\n",
              "</div>\n",
              "      <button class=\"colab-df-convert\" onclick=\"convertToInteractive('df-d8daf1e5-11d8-478d-9177-f03f5d46589a')\"\n",
              "              title=\"Convert this dataframe to an interactive table.\"\n",
              "              style=\"display:none;\">\n",
              "        \n",
              "  <svg xmlns=\"http://www.w3.org/2000/svg\" height=\"24px\"viewBox=\"0 0 24 24\"\n",
              "       width=\"24px\">\n",
              "    <path d=\"M0 0h24v24H0V0z\" fill=\"none\"/>\n",
              "    <path d=\"M18.56 5.44l.94 2.06.94-2.06 2.06-.94-2.06-.94-.94-2.06-.94 2.06-2.06.94zm-11 1L8.5 8.5l.94-2.06 2.06-.94-2.06-.94L8.5 2.5l-.94 2.06-2.06.94zm10 10l.94 2.06.94-2.06 2.06-.94-2.06-.94-.94-2.06-.94 2.06-2.06.94z\"/><path d=\"M17.41 7.96l-1.37-1.37c-.4-.4-.92-.59-1.43-.59-.52 0-1.04.2-1.43.59L10.3 9.45l-7.72 7.72c-.78.78-.78 2.05 0 2.83L4 21.41c.39.39.9.59 1.41.59.51 0 1.02-.2 1.41-.59l7.78-7.78 2.81-2.81c.8-.78.8-2.07 0-2.86zM5.41 20L4 18.59l7.72-7.72 1.47 1.35L5.41 20z\"/>\n",
              "  </svg>\n",
              "      </button>\n",
              "      \n",
              "  <style>\n",
              "    .colab-df-container {\n",
              "      display:flex;\n",
              "      flex-wrap:wrap;\n",
              "      gap: 12px;\n",
              "    }\n",
              "\n",
              "    .colab-df-convert {\n",
              "      background-color: #E8F0FE;\n",
              "      border: none;\n",
              "      border-radius: 50%;\n",
              "      cursor: pointer;\n",
              "      display: none;\n",
              "      fill: #1967D2;\n",
              "      height: 32px;\n",
              "      padding: 0 0 0 0;\n",
              "      width: 32px;\n",
              "    }\n",
              "\n",
              "    .colab-df-convert:hover {\n",
              "      background-color: #E2EBFA;\n",
              "      box-shadow: 0px 1px 2px rgba(60, 64, 67, 0.3), 0px 1px 3px 1px rgba(60, 64, 67, 0.15);\n",
              "      fill: #174EA6;\n",
              "    }\n",
              "\n",
              "    [theme=dark] .colab-df-convert {\n",
              "      background-color: #3B4455;\n",
              "      fill: #D2E3FC;\n",
              "    }\n",
              "\n",
              "    [theme=dark] .colab-df-convert:hover {\n",
              "      background-color: #434B5C;\n",
              "      box-shadow: 0px 1px 3px 1px rgba(0, 0, 0, 0.15);\n",
              "      filter: drop-shadow(0px 1px 2px rgba(0, 0, 0, 0.3));\n",
              "      fill: #FFFFFF;\n",
              "    }\n",
              "  </style>\n",
              "\n",
              "      <script>\n",
              "        const buttonEl =\n",
              "          document.querySelector('#df-d8daf1e5-11d8-478d-9177-f03f5d46589a button.colab-df-convert');\n",
              "        buttonEl.style.display =\n",
              "          google.colab.kernel.accessAllowed ? 'block' : 'none';\n",
              "\n",
              "        async function convertToInteractive(key) {\n",
              "          const element = document.querySelector('#df-d8daf1e5-11d8-478d-9177-f03f5d46589a');\n",
              "          const dataTable =\n",
              "            await google.colab.kernel.invokeFunction('convertToInteractive',\n",
              "                                                     [key], {});\n",
              "          if (!dataTable) return;\n",
              "\n",
              "          const docLinkHtml = 'Like what you see? Visit the ' +\n",
              "            '<a target=\"_blank\" href=https://colab.research.google.com/notebooks/data_table.ipynb>data table notebook</a>'\n",
              "            + ' to learn more about interactive tables.';\n",
              "          element.innerHTML = '';\n",
              "          dataTable['output_type'] = 'display_data';\n",
              "          await google.colab.output.renderOutput(dataTable, element);\n",
              "          const docLink = document.createElement('div');\n",
              "          docLink.innerHTML = docLinkHtml;\n",
              "          element.appendChild(docLink);\n",
              "        }\n",
              "      </script>\n",
              "    </div>\n",
              "  </div>\n",
              "  "
            ]
          },
          "metadata": {},
          "execution_count": 12
        }
      ]
    },
    {
      "cell_type": "markdown",
      "source": [
        "Zatim podijelite skup podataka na trening i test (u omjeru 70-30). Pripazite na to da u podskupovima za trening i test bude jednak **omjer** preživjelih i preminulih putnika."
      ],
      "metadata": {
        "id": "0tkOzOAvrx-h"
      }
    },
    {
      "cell_type": "code",
      "source": [
        "# from sklearn.model_selection import train_test_split\n",
        "\n",
        "# X_train, X_test, y_train, y_test = train_test_split(X,y,test_size=0.3, random_state=1) #stratify=y\n",
        "\n",
        "# print(y_train.value_counts()[1])\n",
        "# print(y_test.value_counts()[1])"
      ],
      "metadata": {
        "id": "H_-9vOeiXllL"
      },
      "execution_count": null,
      "outputs": []
    },
    {
      "cell_type": "code",
      "source": [
        "from sklearn.model_selection import train_test_split\n",
        "\n",
        "X=data.drop([\"survived\"],axis=1)\n",
        "y=data[\"survived\"]\n",
        "\n",
        "X_train, X_test, y_train, y_test = train_test_split(X, y, test_size=0.3, stratify=y)"
      ],
      "metadata": {
        "id": "XkT3yBZTr6C0"
      },
      "execution_count": null,
      "outputs": []
    },
    {
      "cell_type": "markdown",
      "source": [
        "## **Zadatak 2: Logistička regresija**"
      ],
      "metadata": {
        "id": "xUChKzhv2udk"
      }
    },
    {
      "cell_type": "markdown",
      "source": [
        "Na podskupu za trening istrenirajte model algoritma logističke regresije. Izračunajte mjere CAC, Precision, Recall i F1 na podskupu za trening i test. "
      ],
      "metadata": {
        "id": "-aeaaT-irqs6"
      }
    },
    {
      "cell_type": "code",
      "source": [
        "from sklearn.linear_model import LogisticRegression\n",
        "from sklearn.metrics import confusion_matrix, ConfusionMatrixDisplay\n",
        "\n",
        "model = LogisticRegression()\n",
        "model.fit(X_train, y_train)\n",
        "predicted_labels = model.predict(X_test)\n",
        "\n",
        "cmatrix = confusion_matrix(y_test, predicted_labels)\n",
        "disp = ConfusionMatrixDisplay(cmatrix)\n",
        "disp.plot()\n",
        "plt.show()\n",
        "\n",
        "#Tn=203  Fp=40 \n",
        "#Fn=48   Tp=102\n",
        "\n",
        "# Model je zadovoljavajuć jer su vrijednosti  Tn i Tp veće od sume Fp i Fn\n",
        "# Velika je vrijednost Fn - za koje je model predvidio da nisu živi, a preživjeli su"
      ],
      "metadata": {
        "id": "YvB87QD3scMh",
        "colab": {
          "base_uri": "https://localhost:8080/",
          "height": 588
        },
        "outputId": "0e7b8f88-57f9-49b3-b4fb-55f180d5afac"
      },
      "execution_count": null,
      "outputs": [
        {
          "output_type": "stream",
          "name": "stderr",
          "text": [
            "/usr/local/lib/python3.9/dist-packages/sklearn/linear_model/_logistic.py:458: ConvergenceWarning: lbfgs failed to converge (status=1):\n",
            "STOP: TOTAL NO. of ITERATIONS REACHED LIMIT.\n",
            "\n",
            "Increase the number of iterations (max_iter) or scale the data as shown in:\n",
            "    https://scikit-learn.org/stable/modules/preprocessing.html\n",
            "Please also refer to the documentation for alternative solver options:\n",
            "    https://scikit-learn.org/stable/modules/linear_model.html#logistic-regression\n",
            "  n_iter_i = _check_optimize_result(\n"
          ]
        },
        {
          "output_type": "display_data",
          "data": {
            "text/plain": [
              "<Figure size 640x480 with 2 Axes>"
            ],
            "image/png": "[encoded data removed]"
          },
          "metadata": {}
        }
      ]
    },
    {
      "cell_type": "code",
      "source": [
        "from sklearn.metrics import precision_recall_fscore_support\n",
        "from sklearn.metrics import accuracy_score\n",
        "\n",
        "y_true = y_test\n",
        "y_pred = model.predict(X_test)\n",
        "\n",
        "\n",
        "precision, recall, f1_score, support = precision_recall_fscore_support(y_true, y_pred)\n",
        "\n",
        "\n",
        "print(\"CAC: {0}\".format(accuracy_score(y_test, model.predict(X_test))))\n",
        "\n",
        "print(\"Precision:\", precision)\n",
        "print(\"Recall:\", recall)\n",
        "print(\"F1-score:\", f1_score)"
      ],
      "metadata": {
        "colab": {
          "base_uri": "https://localhost:8080/"
        },
        "id": "NpLVB2jxiy-o",
        "outputId": "3d592ec6-a5e8-49a5-da5d-957a98429435"
      },
      "execution_count": null,
      "outputs": [
        {
          "output_type": "stream",
          "name": "stdout",
          "text": [
            "CAC: 0.7760814249363868\n",
            "Precision: [0.80876494 0.71830986]\n",
            "Recall: [0.83539095 0.68      ]\n",
            "F1-score: [0.82186235 0.69863014]\n"
          ]
        }
      ]
    },
    {
      "cell_type": "markdown",
      "source": [
        "__________________________________________________\n",
        "Dobro je klasificirao 77% primjeraka.\n",
        "\n",
        "Točnost za preživjele je 0.71.\n",
        "\n",
        "Stopa stvarno pozitivnih predviđanja (engl. true positive rate) je 0.68 za one koji su preživjeli.\n",
        "\n",
        "F1 predstavlja harmonijsku sredinu odziva i preciznosti.\n",
        "______________________________________________________"
      ],
      "metadata": {
        "id": "wcMKrmNqlV5G"
      }
    },
    {
      "cell_type": "markdown",
      "source": [
        "Logistička regresija koristi prag vjerojatnosti kako bi odlučila u koju klasu treba svrstati primjerak. U nekim slučajevima, želimo razumjeti kako se model ponaša na različitim razinama ovog praga. Iscrtajte ROC krivulju na temelju stvarnih vrijednosti izlazne varijable i predviđenih vjerojatnosti oznaka klasa koje daje logistička regresija (*predict_proba*). Izračunajte površinu ispod krivulje, odnosno vrijednost mjere AUC. "
      ],
      "metadata": {
        "id": "H6uAaluosdQY"
      }
    },
    {
      "cell_type": "code",
      "source": [
        "from sklearn.metrics import roc_curve, auc\n",
        "\n",
        "y_pred_proba = model.predict_proba(X_test)[:, 1]\n",
        "\n",
        "fpr, tpr, thresholds = roc_curve(y_test, y_pred_proba)\n",
        "\n",
        "auc_score = auc(fpr, tpr)\n",
        "\n",
        "plt.plot(fpr, tpr, label=f'AUC = {auc_score:.3f}')\n",
        "plt.plot([0, 1], [0, 1], linestyle='-', color='magenta')\n",
        "plt.xlabel('False Positive Rate')\n",
        "plt.ylabel('True Positive Rate')\n",
        "plt.title('ROC Curve')\n",
        "plt.legend()\n",
        "plt.show()"
      ],
      "metadata": {
        "id": "Cojar44rs8DU",
        "colab": {
          "base_uri": "https://localhost:8080/",
          "height": 472
        },
        "outputId": "45123877-4e6a-49d5-ddb0-9d477330b2fa"
      },
      "execution_count": null,
      "outputs": [
        {
          "output_type": "display_data",
          "data": {
            "text/plain": [
              "<Figure size 640x480 with 1 Axes>"
            ],
            "image/png": "[encoded data removed]"
          },
          "metadata": {}
        }
      ]
    },
    {
      "cell_type": "markdown",
      "source": [
        "___________________________________________________________\n",
        "Krivuljom operativnih karakteristika (engl. receiver operator characteristic, ROC) koja pruža grafički prikaz ovisnosti TPR o FPR za različite postavke praga diskriminacije između klasa unutar klasifikatora.\n",
        "\n",
        "Tp u svim pozitivnim (Tp i Fn) i Fp u svim negativnim (Fp i Tn).\n",
        "____________________________________________________________"
      ],
      "metadata": {
        "id": "oG1o9iFCnsEu"
      }
    },
    {
      "cell_type": "markdown",
      "source": [
        "## **Zadatak 3: Stroj potpornih vektora**\n",
        "\n",
        "Na podskupu za trening istrenirajte model algoritma SVM s linearnom jezgrom. Ispišite jednadžbu granice između klasa te ju protumačite. Izračunajte mjere CAC, Precision, Recall i F1 na podskupu za trening i test."
      ],
      "metadata": {
        "id": "vMwMw_6qs9Iy"
      }
    },
    {
      "cell_type": "code",
      "source": [
        "from sklearn.svm import SVC\n",
        "from sklearn.metrics import accuracy_score, precision_score, recall_score, f1_score\n",
        "\n",
        "svm = SVC(kernel=\"linear\")\n",
        "svm.fit(X_train, y_train)\n",
        "\n",
        "y_train_pred = svm.predict(X_train)\n",
        "y_test_pred = svm.predict(X_test)\n",
        "\n",
        "train_acc = accuracy_score(y_train, y_train_pred)\n",
        "test_acc = accuracy_score(y_test, y_test_pred)\n",
        "\n",
        "train_precision = precision_score(y_train, y_train_pred)\n",
        "test_precision = precision_score(y_test, y_test_pred)\n",
        "\n",
        "train_recall = recall_score(y_train, y_train_pred)\n",
        "test_recall = recall_score(y_test, y_test_pred)\n",
        "\n",
        "train_f1 = f1_score(y_train, y_train_pred)\n",
        "test_f1 = f1_score(y_test, y_test_pred)\n",
        "\n",
        "print(\"Train accuracy:\", train_acc)\n",
        "print(\"Test accuracy:\", test_acc)\n",
        "\n",
        "print(\"Train precision:\", train_precision)\n",
        "print(\"Test precision:\", test_precision)\n",
        "\n",
        "print(\"Train recall:\", train_recall)\n",
        "print(\"Test recall:\", test_recall)\n",
        "\n",
        "print(\"Train F1:\", train_f1)\n",
        "print(\"Test F1:\", test_f1)"
      ],
      "metadata": {
        "colab": {
          "base_uri": "https://localhost:8080/"
        },
        "id": "I9HBfgh8auH1",
        "outputId": "76ffac6a-48f1-4370-8bbd-94f973227e83"
      },
      "execution_count": null,
      "outputs": [
        {
          "output_type": "stream",
          "name": "stdout",
          "text": [
            "Train accuracy: 0.8198689956331878\n",
            "Test accuracy: 0.7735368956743003\n",
            "Train precision: 0.7548209366391184\n",
            "Test precision: 0.7226277372262774\n",
            "Train recall: 0.7828571428571428\n",
            "Test recall: 0.66\n",
            "Train F1: 0.7685834502103787\n",
            "Test F1: 0.6898954703832753\n"
          ]
        }
      ]
    },
    {
      "cell_type": "markdown",
      "source": [
        "_________________________________________________________\n",
        "**SVM s linearnom jezgrom**\n",
        "\n",
        "Točnost je bolja na skupu za treniranje (0.82) nego li je na testnom skupu (0.77) što je u većini slučajeva normalno.\n",
        "________________________________________________________\n",
        "\n"
      ],
      "metadata": {
        "id": "l4WzSolIpFzt"
      }
    },
    {
      "cell_type": "code",
      "source": [
        "# from sklearn.metrics import precision_recall_fscore_support\n",
        "\n",
        "# y_true = list(y['survived'])\n",
        "# y_pred = y_predicted\n",
        "\n",
        "# precision, recall, f1_score, support = precision_recall_fscore_support(y_true, y_pred, average='micro')\n",
        "\n",
        "# #'micro':Calculate metrics globally by counting the total true positives, false negatives and false positives.\n",
        "# # print the results\n",
        "\n",
        "# print(\"Micro-averaged Precision:\", precision)\n",
        "# print(\"Micro-averaged Recall:\", recall)\n",
        "# print(\"Micro-averaged F1-score:\", f1_score)"
      ],
      "metadata": {
        "id": "cLdx0tH_sokI"
      },
      "execution_count": null,
      "outputs": []
    },
    {
      "cell_type": "markdown",
      "source": [
        "Istražite učinkovitost algoritma SVM s različitim jezgrama (polinomijalne s različitim stupnjem te radijalne funkcije). Izračunajte mjere CAC, Precision, Recall i F1 na podskupu za trening i test te usporedite rezultate u odnosu na rezultate dobivene s linearnom jezgrom."
      ],
      "metadata": {
        "id": "k446V_7Qt1uv"
      }
    },
    {
      "cell_type": "code",
      "source": [
        "# from sklearn.metrics import accuracy_score, precision_score, recall_score, f1_score\n",
        "# import matplotlib.pyplot as plt\n",
        "\n",
        "# #oblici transformacije preko parametra kernel u klasi SVC = Najpoznatije transformacije (kod algoritma SVM ove transformacije još se zovu jezgre) jesu polinomijalna, sigmoid te radijalna funkcija\n",
        "\n",
        "# kernels = ['poly', 'rbf']\n",
        "\n",
        "\n",
        "# for kernel in kernels:\n",
        "\n",
        "#     X_train, X_test, y_train, y_test = train_test_split(X, y, test_size=0.2, random_state=42)\n",
        "\n",
        "#     model = SVC(kernel=kernel)\n",
        "#     model.fit(X_train, y_train)\n",
        "\n",
        "#     y_pred = model.predict(X_test)\n",
        "\n",
        "#     acc = accuracy_score(y_test, y_pred)\n",
        "#     prec = precision_score(y_test, y_pred)\n",
        "#     rec = recall_score(y_test, y_pred)\n",
        "#     f1 = f1_score(y_test, y_pred)\n",
        "\n",
        "#     print(f'Evaluation metrics for {kernel} kernel:')\n",
        "#     print(f'Accuracy: {acc}')\n",
        "#     print(f'Precision: {prec}')\n",
        "#     print(f'Recall: {rec}')\n",
        "#     print(f'F1-score: {f1}')\n"
      ],
      "metadata": {
        "id": "F_dlNblnuF-z"
      },
      "execution_count": null,
      "outputs": []
    },
    {
      "cell_type": "code",
      "source": [
        "svm = SVC(kernel=\"poly\", degree=2)\n",
        "svm.fit(X_train, y_train)\n",
        "\n",
        "y_train_pred = svm.predict(X_train)\n",
        "y_test_pred = svm.predict(X_test)\n",
        "\n",
        "train_acc = accuracy_score(y_train, y_train_pred)\n",
        "test_acc = accuracy_score(y_test, y_test_pred)\n",
        "\n",
        "train_precision = precision_score(y_train, y_train_pred)\n",
        "test_precision = precision_score(y_test, y_test_pred)\n",
        "\n",
        "train_recall = recall_score(y_train, y_train_pred)\n",
        "test_recall = recall_score(y_test, y_test_pred)\n",
        "\n",
        "train_f1 = f1_score(y_train, y_train_pred)\n",
        "test_f1 = f1_score(y_test, y_test_pred)\n",
        "\n",
        "print(\"Train accuracy:\", train_acc)\n",
        "print(\"Test accuracy:\", test_acc)\n",
        "\n",
        "print(\"Train precision:\", train_precision)\n",
        "print(\"Test precision:\", test_precision)\n",
        "\n",
        "print(\"Train recall:\", train_recall)\n",
        "print(\"Test recall:\", test_recall)\n",
        "\n",
        "print(\"Train F1:\", train_f1)\n",
        "print(\"Test F1:\", test_f1)"
      ],
      "metadata": {
        "colab": {
          "base_uri": "https://localhost:8080/"
        },
        "id": "H5gPLlg6bHyz",
        "outputId": "91f1e95c-ac1e-4238-880e-cf01777fed59"
      },
      "execution_count": null,
      "outputs": [
        {
          "output_type": "stream",
          "name": "stdout",
          "text": [
            "Train accuracy: 0.6609360076408787\n",
            "Test accuracy: 0.5763358778625954\n",
            "Train precision: 0.9354838709677419\n",
            "Test precision: 0.8181818181818182\n",
            "Train recall: 0.07591623036649214\n",
            "Test recall: 0.07627118644067797\n",
            "Train F1: 0.14043583535108958\n",
            "Test F1: 0.13953488372093023\n"
          ]
        }
      ]
    },
    {
      "cell_type": "code",
      "source": [
        "svm = SVC(kernel=\"poly\", degree=3)\n",
        "svm.fit(X_train, y_train)\n",
        "\n",
        "y_train_pred = svm.predict(X_train)\n",
        "y_test_pred = svm.predict(X_test)\n",
        "\n",
        "train_acc = accuracy_score(y_train, y_train_pred)\n",
        "test_acc = accuracy_score(y_test, y_test_pred)\n",
        "\n",
        "train_precision = precision_score(y_train, y_train_pred)\n",
        "test_precision = precision_score(y_test, y_test_pred)\n",
        "\n",
        "train_recall = recall_score(y_train, y_train_pred)\n",
        "test_recall = recall_score(y_test, y_test_pred)\n",
        "\n",
        "train_f1 = f1_score(y_train, y_train_pred)\n",
        "test_f1 = f1_score(y_test, y_test_pred)\n",
        "\n",
        "print(\"Train accuracy:\", train_acc)\n",
        "print(\"Test accuracy:\", test_acc)\n",
        "\n",
        "print(\"Train precision:\", train_precision)\n",
        "print(\"Test precision:\", test_precision)\n",
        "\n",
        "print(\"Train recall:\", train_recall)\n",
        "print(\"Test recall:\", test_recall)\n",
        "\n",
        "print(\"Train F1:\", train_f1)\n",
        "print(\"Test F1:\", test_f1)"
      ],
      "metadata": {
        "colab": {
          "base_uri": "https://localhost:8080/"
        },
        "id": "M8VZ_sLebQ-U",
        "outputId": "f9faa180-464c-48eb-f37f-8520e5969d61"
      },
      "execution_count": null,
      "outputs": [
        {
          "output_type": "stream",
          "name": "stdout",
          "text": [
            "Train accuracy: 0.6800382043935053\n",
            "Test accuracy: 0.6106870229007634\n",
            "Train precision: 0.8615384615384616\n",
            "Test precision: 0.8333333333333334\n",
            "Train recall: 0.14659685863874344\n",
            "Test recall: 0.1694915254237288\n",
            "Train F1: 0.2505592841163311\n",
            "Test F1: 0.2816901408450704\n"
          ]
        }
      ]
    },
    {
      "cell_type": "markdown",
      "source": [
        "_______________________________________________\n",
        "Bolji je za sada poly sa stupnjem 2., ali linearni je najbolji.\n",
        "______________________________________________"
      ],
      "metadata": {
        "id": "9BI-1-WgrdCl"
      }
    },
    {
      "cell_type": "code",
      "source": [
        "svm = SVC(kernel=\"rbf\")\n",
        "svm.fit(X_train, y_train)\n",
        "\n",
        "y_train_pred = svm.predict(X_train)\n",
        "y_test_pred = svm.predict(X_test)\n",
        "\n",
        "train_acc = accuracy_score(y_train, y_train_pred)\n",
        "test_acc = accuracy_score(y_test, y_test_pred)\n",
        "\n",
        "train_precision = precision_score(y_train, y_train_pred)\n",
        "test_precision = precision_score(y_test, y_test_pred)\n",
        "\n",
        "train_recall = recall_score(y_train, y_train_pred)\n",
        "test_recall = recall_score(y_test, y_test_pred)\n",
        "\n",
        "train_f1 = f1_score(y_train, y_train_pred)\n",
        "test_f1 = f1_score(y_test, y_test_pred)\n",
        "\n",
        "print(\"Train accuracy:\", train_acc)\n",
        "print(\"Test accuracy:\", test_acc)\n",
        "\n",
        "print(\"Train precision:\", train_precision)\n",
        "print(\"Test precision:\", test_precision)\n",
        "\n",
        "print(\"Train recall:\", train_recall)\n",
        "print(\"Test recall:\", test_recall)\n",
        "\n",
        "print(\"Train F1:\", train_f1)\n",
        "print(\"Test F1:\", test_f1)"
      ],
      "metadata": {
        "colab": {
          "base_uri": "https://localhost:8080/"
        },
        "id": "TNjQ_afwrY7G",
        "outputId": "758f04a1-c21b-4cef-8996-2a396b3c2bf0"
      },
      "execution_count": null,
      "outputs": [
        {
          "output_type": "stream",
          "name": "stdout",
          "text": [
            "Train accuracy: 0.6542502387774594\n",
            "Test accuracy: 0.5610687022900763\n",
            "Train precision: 0.6851851851851852\n",
            "Test precision: 0.6153846153846154\n",
            "Train recall: 0.0968586387434555\n",
            "Test recall: 0.06779661016949153\n",
            "Train F1: 0.16972477064220187\n",
            "Test F1: 0.12213740458015265\n"
          ]
        }
      ]
    },
    {
      "cell_type": "code",
      "source": [
        "svm = SVC(kernel=\"rbf\", C=2)\n",
        "svm.fit(X_train, y_train)\n",
        "\n",
        "y_train_pred = svm.predict(X_train)\n",
        "y_test_pred = svm.predict(X_test)\n",
        "\n",
        "train_acc = accuracy_score(y_train, y_train_pred)\n",
        "test_acc = accuracy_score(y_test, y_test_pred)\n",
        "\n",
        "train_precision = precision_score(y_train, y_train_pred)\n",
        "test_precision = precision_score(y_test, y_test_pred)\n",
        "\n",
        "train_recall = recall_score(y_train, y_train_pred)\n",
        "test_recall = recall_score(y_test, y_test_pred)\n",
        "\n",
        "train_f1 = f1_score(y_train, y_train_pred)\n",
        "test_f1 = f1_score(y_test, y_test_pred)\n",
        "\n",
        "print(\"Train accuracy:\", train_acc)\n",
        "print(\"Test accuracy:\", test_acc)\n",
        "\n",
        "print(\"Train precision:\", train_precision)\n",
        "print(\"Test precision:\", test_precision)\n",
        "\n",
        "print(\"Train recall:\", train_recall)\n",
        "print(\"Test recall:\", test_recall)\n",
        "\n",
        "print(\"Train F1:\", train_f1)\n",
        "print(\"Test F1:\", test_f1)"
      ],
      "metadata": {
        "colab": {
          "base_uri": "https://localhost:8080/"
        },
        "id": "9oDlicd9sEXY",
        "outputId": "0fb08709-0e9a-4ad3-8055-3a6553d81873"
      },
      "execution_count": null,
      "outputs": [
        {
          "output_type": "stream",
          "name": "stdout",
          "text": [
            "Train accuracy: 0.7402101241642789\n",
            "Test accuracy: 0.6793893129770993\n",
            "Train precision: 0.8197674418604651\n",
            "Test precision: 0.925\n",
            "Train recall: 0.36910994764397903\n",
            "Test recall: 0.3135593220338983\n",
            "Train F1: 0.5090252707581228\n",
            "Test F1: 0.4683544303797468\n"
          ]
        }
      ]
    },
    {
      "cell_type": "code",
      "source": [
        "svm = SVC(kernel=\"rbf\", C=4)\n",
        "svm.fit(X_train, y_train)\n",
        "\n",
        "y_train_pred = svm.predict(X_train)\n",
        "y_test_pred = svm.predict(X_test)\n",
        "\n",
        "train_acc = accuracy_score(y_train, y_train_pred)\n",
        "test_acc = accuracy_score(y_test, y_test_pred)\n",
        "\n",
        "train_precision = precision_score(y_train, y_train_pred)\n",
        "test_precision = precision_score(y_test, y_test_pred)\n",
        "\n",
        "train_recall = recall_score(y_train, y_train_pred)\n",
        "test_recall = recall_score(y_test, y_test_pred)\n",
        "\n",
        "train_f1 = f1_score(y_train, y_train_pred)\n",
        "test_f1 = f1_score(y_test, y_test_pred)\n",
        "\n",
        "print(\"Train accuracy:\", train_acc)\n",
        "print(\"Test accuracy:\", test_acc)\n",
        "\n",
        "print(\"Train precision:\", train_precision)\n",
        "print(\"Test precision:\", test_precision)\n",
        "\n",
        "print(\"Train recall:\", train_recall)\n",
        "print(\"Test recall:\", test_recall)\n",
        "\n",
        "print(\"Train F1:\", train_f1)\n",
        "print(\"Test F1:\", test_f1)"
      ],
      "metadata": {
        "colab": {
          "base_uri": "https://localhost:8080/"
        },
        "id": "7oEUU_GwsKZe",
        "outputId": "09112f93-21ae-4e26-bf54-ce86c03982b5"
      },
      "execution_count": null,
      "outputs": [
        {
          "output_type": "stream",
          "name": "stdout",
          "text": [
            "Train accuracy: 0.7984718242597899\n",
            "Test accuracy: 0.767175572519084\n",
            "Train precision: 0.7255936675461742\n",
            "Test precision: 0.7878787878787878\n",
            "Train recall: 0.7198952879581152\n",
            "Test recall: 0.6610169491525424\n",
            "Train F1: 0.7227332457293035\n",
            "Test F1: 0.7188940092165897\n"
          ]
        }
      ]
    },
    {
      "cell_type": "markdown",
      "source": [
        "_______________________________________________________\n",
        "Od svih gore isprobanih kombinacija najumjereniji je s radijalnom funkcijom svm = SVC(kernel=\"rbf\", C=4) \n",
        "______________________________________________________"
      ],
      "metadata": {
        "id": "fLlShLr1spO2"
      }
    },
    {
      "cell_type": "markdown",
      "source": [
        "Istražite učinkovitost algoritma SVM sa složenijim jezgrama kada se pri njegovu treniranju koristi regularizacija. Isprobajte nekoliko vrijednosti za koeficijent regularizacije te prokomentirajte dobivene rezultate. "
      ],
      "metadata": {
        "id": "OCUH6JUfuMLH"
      }
    },
    {
      "cell_type": "markdown",
      "source": [
        "## **Zadatak 4: Algoritam najbližih susjeda**\n",
        "\n",
        "Na podskupu za trening istrenirajte algoritam KNN s različitim postavkama parametra $k$. Izračunajte mjere CAC, Precision, Recall i F1 na podskupu za trening i test te prokomentirajte dobivene rezultate."
      ],
      "metadata": {
        "id": "VBkQNDwpuey-"
      }
    },
    {
      "cell_type": "code",
      "source": [
        "from sklearn.neighbors import KNeighborsClassifier\n",
        "\n",
        "knm = KNeighborsClassifier()\n",
        "knm.fit(X_train, y_train)\n",
        "\n",
        "y_train_pred = knm.predict(X_train)\n",
        "y_test_pred = knm.predict(X_test)\n",
        "\n",
        "train_acc = accuracy_score(y_train, y_train_pred)\n",
        "test_acc = accuracy_score(y_test, y_test_pred)\n",
        "\n",
        "train_precision = precision_score(y_train, y_train_pred)\n",
        "test_precision = precision_score(y_test, y_test_pred)\n",
        "\n",
        "train_recall = recall_score(y_train, y_train_pred)\n",
        "test_recall = recall_score(y_test, y_test_pred)\n",
        "\n",
        "train_f1 = f1_score(y_train, y_train_pred)\n",
        "test_f1 = f1_score(y_test, y_test_pred)\n",
        "\n",
        "print(\"Train accuracy:\", train_acc)\n",
        "print(\"Test accuracy:\", test_acc)\n",
        "\n",
        "print(\"Train precision:\", train_precision)\n",
        "print(\"Test precision:\", test_precision)\n",
        "\n",
        "print(\"Train recall:\", train_recall)\n",
        "print(\"Test recall:\", test_recall)\n",
        "\n",
        "print(\"Train F1:\", train_f1)\n",
        "print(\"Test F1:\", test_f1)"
      ],
      "metadata": {
        "id": "xHsh_BWXv7ad",
        "colab": {
          "base_uri": "https://localhost:8080/"
        },
        "outputId": "606cd9b5-9cc4-4ce4-b50d-8ab83a96dd5e"
      },
      "execution_count": null,
      "outputs": [
        {
          "output_type": "stream",
          "name": "stdout",
          "text": [
            "Train accuracy: 0.8213944603629417\n",
            "Test accuracy: 0.7251908396946565\n",
            "Train precision: 0.7945619335347432\n",
            "Test precision: 0.7875\n",
            "Train recall: 0.6884816753926701\n",
            "Test recall: 0.5338983050847458\n",
            "Train F1: 0.7377279102384292\n",
            "Test F1: 0.6363636363636364\n"
          ]
        }
      ]
    },
    {
      "cell_type": "code",
      "source": [
        "from sklearn.neighbors import KNeighborsClassifier\n",
        "\n",
        "knm = KNeighborsClassifier(n_neighbors=3)\n",
        "knm.fit(X_train, y_train)\n",
        "\n",
        "y_train_pred = knm.predict(X_train)\n",
        "y_test_pred = knm.predict(X_test)\n",
        "\n",
        "train_acc = accuracy_score(y_train, y_train_pred)\n",
        "test_acc = accuracy_score(y_test, y_test_pred)\n",
        "\n",
        "train_precision = precision_score(y_train, y_train_pred)\n",
        "test_precision = precision_score(y_test, y_test_pred)\n",
        "\n",
        "train_recall = recall_score(y_train, y_train_pred)\n",
        "test_recall = recall_score(y_test, y_test_pred)\n",
        "\n",
        "train_f1 = f1_score(y_train, y_train_pred)\n",
        "test_f1 = f1_score(y_test, y_test_pred)\n",
        "\n",
        "print(\"Train accuracy:\", train_acc)\n",
        "print(\"Test accuracy:\", test_acc)\n",
        "\n",
        "print(\"Train precision:\", train_precision)\n",
        "print(\"Test precision:\", test_precision)\n",
        "\n",
        "print(\"Train recall:\", train_recall)\n",
        "print(\"Test recall:\", test_recall)\n",
        "\n",
        "print(\"Train F1:\", train_f1)\n",
        "print(\"Test F1:\", test_f1)"
      ],
      "metadata": {
        "colab": {
          "base_uri": "https://localhost:8080/"
        },
        "id": "Xt0wW4Satki-",
        "outputId": "49aa63a7-dfed-43ba-a418-869df3b80216"
      },
      "execution_count": null,
      "outputs": [
        {
          "output_type": "stream",
          "name": "stdout",
          "text": [
            "Train accuracy: 0.8538681948424068\n",
            "Test accuracy: 0.7519083969465649\n",
            "Train precision: 0.8417910447761194\n",
            "Test precision: 0.797752808988764\n",
            "Train recall: 0.7382198952879581\n",
            "Test recall: 0.6016949152542372\n",
            "Train F1: 0.7866108786610879\n",
            "Test F1: 0.6859903381642511\n"
          ]
        }
      ]
    },
    {
      "cell_type": "code",
      "source": [
        "from sklearn.neighbors import KNeighborsClassifier\n",
        "\n",
        "knm = KNeighborsClassifier(n_neighbors=10)\n",
        "knm.fit(X_train, y_train)\n",
        "\n",
        "y_train_pred = knm.predict(X_train)\n",
        "y_test_pred = knm.predict(X_test)\n",
        "\n",
        "train_acc = accuracy_score(y_train, y_train_pred)\n",
        "test_acc = accuracy_score(y_test, y_test_pred)\n",
        "\n",
        "train_precision = precision_score(y_train, y_train_pred)\n",
        "test_precision = precision_score(y_test, y_test_pred)\n",
        "\n",
        "train_recall = recall_score(y_train, y_train_pred)\n",
        "test_recall = recall_score(y_test, y_test_pred)\n",
        "\n",
        "train_f1 = f1_score(y_train, y_train_pred)\n",
        "test_f1 = f1_score(y_test, y_test_pred)\n",
        "\n",
        "print(\"Train accuracy:\", train_acc)\n",
        "print(\"Test accuracy:\", test_acc)\n",
        "\n",
        "print(\"Train precision:\", train_precision)\n",
        "print(\"Test precision:\", test_precision)\n",
        "\n",
        "print(\"Train recall:\", train_recall)\n",
        "print(\"Test recall:\", test_recall)\n",
        "\n",
        "print(\"Train F1:\", train_f1)\n",
        "print(\"Test F1:\", test_f1)"
      ],
      "metadata": {
        "colab": {
          "base_uri": "https://localhost:8080/"
        },
        "id": "xWtnI5VOtsCX",
        "outputId": "ea153d12-a79f-4afd-8927-59dc847f44c4"
      },
      "execution_count": null,
      "outputs": [
        {
          "output_type": "stream",
          "name": "stdout",
          "text": [
            "Train accuracy: 0.7975167144221585\n",
            "Test accuracy: 0.6946564885496184\n",
            "Train precision: 0.8125\n",
            "Test precision: 0.8275862068965517\n",
            "Train recall: 0.5785340314136126\n",
            "Test recall: 0.4067796610169492\n",
            "Train F1: 0.6758409785932723\n",
            "Test F1: 0.5454545454545454\n"
          ]
        }
      ]
    },
    {
      "cell_type": "markdown",
      "source": [
        "_______________________________________________________\n",
        "Najbolje je klasificirao podatke kada je broj susjeda 3, zatim s defaultnih 5 susjeda, pa najlošije s 10.\n",
        "_______________________________________________________"
      ],
      "metadata": {
        "id": "KeHp3xolt31V"
      }
    },
    {
      "cell_type": "markdown",
      "source": [
        "Iscrtajte ovisnost mjere CAC o veličini susjedstva ($k$) za podskupove za trening i test. Koristite linijski dijagram."
      ],
      "metadata": {
        "id": "_1qBcuBNwA77"
      }
    },
    {
      "cell_type": "code",
      "source": [
        "\n",
        "K = range(2,80)\n",
        "cac_test = []\n",
        "cac_train = []\n",
        "\n",
        "for k in K:\n",
        "    knm = KNeighborsClassifier(n_neighbors=k)\n",
        "    knm.fit(X_train, y_train)\n",
        "    y_train_pred = knm.predict(X_train)\n",
        "    y_test_pred = knm.predict(X_test)\n",
        "    cac_test.append(accuracy_score(y_test,y_test_pred))\n",
        "    cac_train.append(accuracy_score(y_train,y_train_pred))\n",
        "\n",
        "plt.plot(K,cac_test,label=\"Test\")\n",
        "plt.plot(K,cac_train,label=\"Train\")\n",
        "plt.xlabel(\"k\")\n",
        "plt.ylabel(\"CAC\")\n",
        "plt.legend()\n",
        "plt.show()"
      ],
      "metadata": {
        "id": "3gZNMDpfwTT1",
        "colab": {
          "base_uri": "https://localhost:8080/",
          "height": 449
        },
        "outputId": "73174ea4-f666-472d-85ff-737a2d16a7e8"
      },
      "execution_count": null,
      "outputs": [
        {
          "output_type": "display_data",
          "data": {
            "text/plain": [
              "<Figure size 640x480 with 1 Axes>"
            ],
            "image/png": "[encoded data removed]"
          },
          "metadata": {}
        }
      ]
    },
    {
      "cell_type": "markdown",
      "source": [
        "______________________________________________________\n",
        "Proporcionalno opada vrijednost mjere CAC s veličinom susjedstva ( k ) i za trening i test podskupove.\n",
        "\n",
        "I može se uočiti da se za  3 susjeda dobije najbolja vrijednost kao što je gore dobiveno izračunom.\n",
        "______________________________________________________"
      ],
      "metadata": {
        "id": "1FQdcd6yujwW"
      }
    },
    {
      "cell_type": "markdown",
      "source": [
        "## **Zadatak 5: Stablo odluke**\n",
        "\n",
        "Na podskupu za trening istrenirajte algoritam DT s različitim postavkama za dubinu stabla. Izračunajte mjere CAC, Precision, Recall i F1 na podskupu za trening i test te prokomentirajte dobivene rezultate.\n",
        "\n"
      ],
      "metadata": {
        "id": "9qxxy-tVv861"
      }
    },
    {
      "cell_type": "code",
      "source": [
        "from sklearn.tree import DecisionTreeClassifier\n",
        "\n",
        "dtm = DecisionTreeClassifier(max_depth=2)\n",
        "dtm.fit(X_train, y_train)\n",
        "\n",
        "y_train_pred = dtm.predict(X_train)\n",
        "y_test_pred = dtm.predict(X_test)\n",
        "\n",
        "train_acc = accuracy_score(y_train, y_train_pred)\n",
        "test_acc = accuracy_score(y_test, y_test_pred)\n",
        "\n",
        "train_precision = precision_score(y_train, y_train_pred)\n",
        "test_precision = precision_score(y_test, y_test_pred)\n",
        "\n",
        "train_recall = recall_score(y_train, y_train_pred)\n",
        "test_recall = recall_score(y_test, y_test_pred)\n",
        "\n",
        "train_f1 = f1_score(y_train, y_train_pred)\n",
        "test_f1 = f1_score(y_test, y_test_pred)\n",
        "\n",
        "print(\"Train accuracy:\", train_acc)\n",
        "print(\"Test accuracy:\", test_acc)\n",
        "\n",
        "print(\"Train precision:\", train_precision)\n",
        "print(\"Test precision:\", test_precision)\n",
        "\n",
        "print(\"Train recall:\", train_recall)\n",
        "print(\"Test recall:\", test_recall)\n",
        "\n",
        "print(\"Train F1:\", train_f1)\n",
        "print(\"Test F1:\", test_f1)"
      ],
      "metadata": {
        "id": "SrMt0HHGwieF",
        "colab": {
          "base_uri": "https://localhost:8080/"
        },
        "outputId": "87d3d412-4f5e-4b91-f132-f730b84504ef"
      },
      "execution_count": null,
      "outputs": [
        {
          "output_type": "stream",
          "name": "stdout",
          "text": [
            "Train accuracy: 0.792741165234002\n",
            "Test accuracy: 0.7557251908396947\n",
            "Train precision: 0.7037037037037037\n",
            "Test precision: 0.7596153846153846\n",
            "Train recall: 0.7460732984293194\n",
            "Test recall: 0.6694915254237288\n",
            "Train F1: 0.724269377382465\n",
            "Test F1: 0.7117117117117118\n"
          ]
        }
      ]
    },
    {
      "cell_type": "code",
      "source": [
        "from sklearn.tree import DecisionTreeClassifier\n",
        "\n",
        "dtm = DecisionTreeClassifier(max_depth=5)\n",
        "dtm.fit(X_train, y_train)\n",
        "\n",
        "y_train_pred = dtm.predict(X_train)\n",
        "y_test_pred = dtm.predict(X_test)\n",
        "\n",
        "train_acc = accuracy_score(y_train, y_train_pred)\n",
        "test_acc = accuracy_score(y_test, y_test_pred)\n",
        "\n",
        "train_precision = precision_score(y_train, y_train_pred)\n",
        "test_precision = precision_score(y_test, y_test_pred)\n",
        "\n",
        "train_recall = recall_score(y_train, y_train_pred)\n",
        "test_recall = recall_score(y_test, y_test_pred)\n",
        "\n",
        "train_f1 = f1_score(y_train, y_train_pred)\n",
        "test_f1 = f1_score(y_test, y_test_pred)\n",
        "\n",
        "print(\"Train accuracy:\", train_acc)\n",
        "print(\"Test accuracy:\", test_acc)\n",
        "\n",
        "print(\"Train precision:\", train_precision)\n",
        "print(\"Test precision:\", test_precision)\n",
        "\n",
        "print(\"Train recall:\", train_recall)\n",
        "print(\"Test recall:\", test_recall)\n",
        "\n",
        "print(\"Train F1:\", train_f1)\n",
        "print(\"Test F1:\", test_f1)"
      ],
      "metadata": {
        "colab": {
          "base_uri": "https://localhost:8080/"
        },
        "id": "171qwLV8vlAG",
        "outputId": "a1f39ae7-bba1-4b5b-f837-74012db38452"
      },
      "execution_count": null,
      "outputs": [
        {
          "output_type": "stream",
          "name": "stdout",
          "text": [
            "Train accuracy: 0.8261700095510984\n",
            "Test accuracy: 0.7709923664122137\n",
            "Train precision: 0.7777777777777778\n",
            "Test precision: 0.8020833333333334\n",
            "Train recall: 0.7329842931937173\n",
            "Test recall: 0.652542372881356\n",
            "Train F1: 0.7547169811320754\n",
            "Test F1: 0.719626168224299\n"
          ]
        }
      ]
    },
    {
      "cell_type": "code",
      "source": [
        "from sklearn.tree import DecisionTreeClassifier\n",
        "\n",
        "dtm = DecisionTreeClassifier(max_depth=7)\n",
        "dtm.fit(X_train, y_train)\n",
        "\n",
        "y_train_pred = dtm.predict(X_train)\n",
        "y_test_pred = dtm.predict(X_test)\n",
        "\n",
        "train_acc = accuracy_score(y_train, y_train_pred)\n",
        "test_acc = accuracy_score(y_test, y_test_pred)\n",
        "\n",
        "train_precision = precision_score(y_train, y_train_pred)\n",
        "test_precision = precision_score(y_test, y_test_pred)\n",
        "\n",
        "train_recall = recall_score(y_train, y_train_pred)\n",
        "test_recall = recall_score(y_test, y_test_pred)\n",
        "\n",
        "train_f1 = f1_score(y_train, y_train_pred)\n",
        "test_f1 = f1_score(y_test, y_test_pred)\n",
        "\n",
        "print(\"Train accuracy:\", train_acc)\n",
        "print(\"Test accuracy:\", test_acc)\n",
        "\n",
        "print(\"Train precision:\", train_precision)\n",
        "print(\"Test precision:\", test_precision)\n",
        "\n",
        "print(\"Train recall:\", train_recall)\n",
        "print(\"Test recall:\", test_recall)\n",
        "\n",
        "print(\"Train F1:\", train_f1)\n",
        "print(\"Test F1:\", test_f1)"
      ],
      "metadata": {
        "colab": {
          "base_uri": "https://localhost:8080/"
        },
        "id": "iHuqzns_vp4v",
        "outputId": "65d3f9f7-00eb-4229-8fab-218b4c326192"
      },
      "execution_count": null,
      "outputs": [
        {
          "output_type": "stream",
          "name": "stdout",
          "text": [
            "Train accuracy: 0.8433619866284623\n",
            "Test accuracy: 0.7786259541984732\n",
            "Train precision: 0.7838541666666666\n",
            "Test precision: 0.8061224489795918\n",
            "Train recall: 0.7879581151832461\n",
            "Test recall: 0.6694915254237288\n",
            "Train F1: 0.7859007832898172\n",
            "Test F1: 0.7314814814814814\n"
          ]
        }
      ]
    },
    {
      "cell_type": "code",
      "source": [
        "from sklearn.tree import DecisionTreeClassifier\n",
        "\n",
        "dtm = DecisionTreeClassifier(max_depth=15)\n",
        "dtm.fit(X_train, y_train)\n",
        "\n",
        "y_train_pred = dtm.predict(X_train)\n",
        "y_test_pred = dtm.predict(X_test)\n",
        "\n",
        "train_acc = accuracy_score(y_train, y_train_pred)\n",
        "test_acc = accuracy_score(y_test, y_test_pred)\n",
        "\n",
        "train_precision = precision_score(y_train, y_train_pred)\n",
        "test_precision = precision_score(y_test, y_test_pred)\n",
        "\n",
        "train_recall = recall_score(y_train, y_train_pred)\n",
        "test_recall = recall_score(y_test, y_test_pred)\n",
        "\n",
        "train_f1 = f1_score(y_train, y_train_pred)\n",
        "test_f1 = f1_score(y_test, y_test_pred)\n",
        "\n",
        "print(\"Train accuracy:\", train_acc)\n",
        "print(\"Test accuracy:\", test_acc)\n",
        "\n",
        "print(\"Train precision:\", train_precision)\n",
        "print(\"Test precision:\", test_precision)\n",
        "\n",
        "print(\"Train recall:\", train_recall)\n",
        "print(\"Test recall:\", test_recall)\n",
        "\n",
        "print(\"Train F1:\", train_f1)\n",
        "print(\"Test F1:\", test_f1)"
      ],
      "metadata": {
        "colab": {
          "base_uri": "https://localhost:8080/"
        },
        "id": "Ecxcpmbmv6R4",
        "outputId": "6ac1646f-b581-4e99-c0d5-c335b60ae78a"
      },
      "execution_count": null,
      "outputs": [
        {
          "output_type": "stream",
          "name": "stdout",
          "text": [
            "Train accuracy: 0.9073543457497613\n",
            "Test accuracy: 0.7290076335877863\n",
            "Train precision: 0.9331306990881459\n",
            "Test precision: 0.7901234567901234\n",
            "Train recall: 0.8036649214659686\n",
            "Test recall: 0.5423728813559322\n",
            "Train F1: 0.8635724331926864\n",
            "Test F1: 0.6432160804020101\n"
          ]
        }
      ]
    },
    {
      "cell_type": "markdown",
      "source": [
        "_____________________________________________________\n",
        "Vrijednosti za dubinu stabla 5 je najoptimalnije jer za vrijednost 7 nije došlo do značajnog poboljšanja, a za vrijednost dubine 15 je lagano krenula prenaučenost.\n",
        "_____________________________________________________"
      ],
      "metadata": {
        "id": "dyB7VvrXv_5u"
      }
    },
    {
      "cell_type": "markdown",
      "source": [
        "Iscrtajte ovisnost mjere CAC o dubini stabla za podskupove za trening i test. Koristite linijski dijagram."
      ],
      "metadata": {
        "id": "vxd9zsJQwjXD"
      }
    },
    {
      "cell_type": "code",
      "source": [
        "D = range(2,30)\n",
        "cac_test = []\n",
        "cac_train = []\n",
        "\n",
        "for d in D:\n",
        "    dtm = DecisionTreeClassifier(max_depth=d)\n",
        "    dtm.fit(X_train, y_train)\n",
        "\n",
        "    y_train_pred = dtm.predict(X_train)\n",
        "    y_test_pred = dtm.predict(X_test)\n",
        "  \n",
        "    cac_test.append(accuracy_score(y_test,y_test_pred))\n",
        "    cac_train.append(accuracy_score(y_train,y_train_pred))\n",
        "\n",
        "plt.plot(D,cac_test,label=\"Test\")\n",
        "plt.plot(D,cac_train,label=\"Train\")\n",
        "plt.xlabel(\"d\")\n",
        "plt.ylabel(\"CAC\")\n",
        "plt.legend()\n",
        "plt.show()"
      ],
      "metadata": {
        "id": "np9GX4dXwpC3",
        "colab": {
          "base_uri": "https://localhost:8080/",
          "height": 449
        },
        "outputId": "2402b96c-3155-4fe4-8147-9678f67f518d"
      },
      "execution_count": null,
      "outputs": [
        {
          "output_type": "display_data",
          "data": {
            "text/plain": [
              "<Figure size 640x480 with 1 Axes>"
            ],
            "image/png": "[encoded data removed]"
          },
          "metadata": {}
        }
      ]
    },
    {
      "cell_type": "markdown",
      "source": [
        "__________________________________________________________\n",
        "Prema grafu dubina 7 je najbolja i za trening i testni skup. Prenaučen je model od dubine 17 pa nadalje.\n",
        "___________________________________________________________"
      ],
      "metadata": {
        "id": "_HuUp1jRxexY"
      }
    }
  ]
}