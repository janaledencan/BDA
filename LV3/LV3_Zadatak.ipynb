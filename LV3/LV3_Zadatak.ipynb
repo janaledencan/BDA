{
  "nbformat": 4,
  "nbformat_minor": 0,
  "metadata": {
    "colab": {
      "provenance": []
    },
    "kernelspec": {
      "name": "python3",
      "display_name": "Python 3"
    },
    "language_info": {
      "name": "python"
    }
  },
  "cells": [
    {
      "cell_type": "markdown",
      "source": [
        "# **Laboratorijska vježba 3**: Zadaci za samostalni rad\n",
        "\n",
        "## **Podaci iz popisa stanovništa u SAD-u iz 2015. godine**\n",
        "\n",
        "U ovoj laboratorijskoj vježbi istražit ćemo skup podataka dobiven iz popisa stanovništva 2015. godine u SAD-u. Skup podataka dostupan je u *Data/acs2015_county_data.csv*. \n"
      ],
      "metadata": {
        "id": "SIOX6OjUo0TQ"
      }
    },
    {
      "cell_type": "code",
      "source": [
        "!head Data/acs2015_county_data.csv"
      ],
      "metadata": {
        "colab": {
          "base_uri": "https://localhost:8080/"
        },
        "id": "fGvIvs0tplVn",
        "outputId": "eb43ac9f-5627-4ff6-9f66-622d8389701d"
      },
      "execution_count": null,
      "outputs": [
        {
          "output_type": "stream",
          "name": "stdout",
          "text": [
            "CensusId,State,County,TotalPop,Men,Women,Hispanic,White,Black,Native,Asian,Pacific,Citizen,Income,IncomeErr,IncomePerCap,IncomePerCapErr,Poverty,ChildPoverty,Professional,Service,Office,Construction,Production,Drive,Carpool,Transit,Walk,OtherTransp,WorkAtHome,MeanCommute,Employed,PrivateWork,PublicWork,SelfEmployed,FamilyWork,Unemployment\r\n",
            "1001,Alabama,Autauga,55221,26745,28476,2.6,75.8,18.5,0.4,1.0,0.0,40725,51281.0,2391.0,24974,1080,12.9,18.6,33.2,17.0,24.2,8.6,17.1,87.5,8.8,0.1,0.5,1.3,1.8,26.5,23986,73.6,20.9,5.5,0.0,7.6\r\n",
            "1003,Alabama,Baldwin,195121,95314,99807,4.5,83.1,9.5,0.6,0.7,0.0,147695,50254.0,1263.0,27317,711,13.4,19.2,33.1,17.7,27.1,10.8,11.2,84.7,8.8,0.1,1.0,1.4,3.9,26.4,85953,81.5,12.3,5.8,0.4,7.5\r\n",
            "1005,Alabama,Barbour,26932,14497,12435,4.6,46.2,46.7,0.2,0.4,0.0,20714,32964.0,2973.0,16824,798,26.7,45.3,26.8,16.1,23.1,10.8,23.1,83.8,10.9,0.4,1.8,1.5,1.6,24.1,8597,71.8,20.8,7.3,0.1,17.6\r\n",
            "1007,Alabama,Bibb,22604,12073,10531,2.2,74.5,21.4,0.4,0.1,0.0,17495,38678.0,3995.0,18431,1618,16.8,27.9,21.5,17.9,17.8,19.0,23.7,83.2,13.5,0.5,0.6,1.5,0.7,28.8,8294,76.8,16.1,6.7,0.4,8.3\r\n",
            "1009,Alabama,Blount,57710,28512,29198,8.6,87.9,1.5,0.3,0.1,0.0,42345,45813.0,3141.0,20532,708,16.7,27.2,28.5,14.1,23.9,13.5,19.9,84.9,11.2,0.4,0.9,0.4,2.3,34.9,22189,82.0,13.5,4.2,0.4,7.7\r\n",
            "1011,Alabama,Bullock,10678,5660,5018,4.4,22.2,70.7,1.2,0.2,0.0,8057,31938.0,5884.0,17580,2055,24.6,38.4,18.8,15.0,19.7,20.1,26.4,74.9,14.9,0.7,5.0,1.7,2.8,27.5,3865,79.5,15.1,5.4,0.0,18.0\r\n",
            "1013,Alabama,Butler,20354,9502,10852,1.2,53.3,43.8,0.1,0.4,0.0,15581,32229.0,1793.0,18390,714,25.4,39.2,27.5,16.6,21.9,10.3,23.7,84.5,12.4,0.0,0.8,0.6,1.7,24.6,7813,77.4,16.2,6.2,0.2,10.9\r\n",
            "1015,Alabama,Calhoun,116648,56274,60374,3.5,73.0,20.3,0.2,0.9,0.0,88612,41703.0,925.0,21374,489,20.5,31.6,27.3,17.7,24.2,10.5,20.4,85.3,9.4,0.2,1.2,1.2,2.7,24.1,47401,74.1,20.8,5.0,0.1,12.3\r\n",
            "1017,Alabama,Chambers,34079,16258,17821,0.4,57.3,40.3,0.2,0.8,0.0,26462,34177.0,2949.0,21071,1366,21.6,37.2,23.3,14.5,26.3,11.5,24.4,85.1,11.9,0.2,0.3,0.4,2.1,25.1,13689,85.1,12.1,2.8,0.0,8.9\r\n"
          ]
        }
      ]
    },
    {
      "cell_type": "code",
      "source": [
        "import pandas as pd\n",
        "import pandas as pd\n",
        "import numpy as np\n",
        "import matplotlib.pyplot as plt\n",
        "%matplotlib inline\n",
        "import seaborn as sns\n",
        "import math\n",
        "\n",
        "#load the statistical libraries\n",
        "from statsmodels.stats import diagnostic\n",
        "from scipy import stats\n",
        "from scipy.stats import skew"
      ],
      "metadata": {
        "id": "3O06UCc7p6GH"
      },
      "execution_count": null,
      "outputs": []
    },
    {
      "cell_type": "code",
      "source": [
        "data_folder = './Data/'\n",
        "df = pd.read_csv(data_folder + 'acs2015_county_data.csv')"
      ],
      "metadata": {
        "id": "Bg-b-5vTp7jO"
      },
      "execution_count": null,
      "outputs": []
    },
    {
      "cell_type": "code",
      "source": [
        "df.columns"
      ],
      "metadata": {
        "colab": {
          "base_uri": "https://localhost:8080/"
        },
        "id": "ZUyIVzNkp_VV",
        "outputId": "1ac96fe3-77e2-4b0c-bd78-cf4760ef7c11"
      },
      "execution_count": null,
      "outputs": [
        {
          "output_type": "execute_result",
          "data": {
            "text/plain": [
              "Index(['CensusId', 'State', 'County', 'TotalPop', 'Men', 'Women', 'Hispanic',\n",
              "       'White', 'Black', 'Native', 'Asian', 'Pacific', 'Citizen', 'Income',\n",
              "       'IncomeErr', 'IncomePerCap', 'IncomePerCapErr', 'Poverty',\n",
              "       'ChildPoverty', 'Professional', 'Service', 'Office', 'Construction',\n",
              "       'Production', 'Drive', 'Carpool', 'Transit', 'Walk', 'OtherTransp',\n",
              "       'WorkAtHome', 'MeanCommute', 'Employed', 'PrivateWork', 'PublicWork',\n",
              "       'SelfEmployed', 'FamilyWork', 'Unemployment'],\n",
              "      dtype='object')"
            ]
          },
          "metadata": {},
          "execution_count": 4
        }
      ]
    },
    {
      "cell_type": "markdown",
      "source": [
        "## **Zadatak 1: Izračun deskriptivne statistike i testiranje distribucija**\n",
        "\n",
        "Za numeričke varijable u skupu podataka izračunajte osnovne mjere u okviru deskriptivne statistike. Zatim se fokusirajte na dohodak po stanovniku države (*IncomePerCap*). Koliko u prosjeku zarađuju stanovnici SAD-a? Kolika je medijalna plaća? "
      ],
      "metadata": {
        "id": "OScnozy4qCH_"
      }
    },
    {
      "cell_type": "code",
      "source": [
        "df.describe() "
      ],
      "metadata": {
        "id": "igEfXmYsqRKQ",
        "colab": {
          "base_uri": "https://localhost:8080/",
          "height": 394
        },
        "outputId": "93b56b19-a65f-47b6-c220-cd70232842b7"
      },
      "execution_count": null,
      "outputs": [
        {
          "output_type": "execute_result",
          "data": {
            "text/plain": [
              "           CensusId      TotalPop           Men         Women     Hispanic  \\\n",
              "count   3220.000000  3.220000e+03  3.220000e+03  3.220000e+03  3220.000000   \n",
              "mean   31393.605280  9.940935e+04  4.889694e+04  5.051241e+04    11.011522   \n",
              "std    16292.078954  3.193055e+05  1.566813e+05  1.626620e+05    19.241380   \n",
              "min     1001.000000  8.500000e+01  4.200000e+01  4.300000e+01     0.000000   \n",
              "25%    19032.500000  1.121800e+04  5.637250e+03  5.572000e+03     1.900000   \n",
              "50%    30024.000000  2.603500e+04  1.293200e+04  1.305700e+04     3.900000   \n",
              "75%    46105.500000  6.643050e+04  3.299275e+04  3.348750e+04     9.825000   \n",
              "max    72153.000000  1.003839e+07  4.945351e+06  5.093037e+06    99.900000   \n",
              "\n",
              "             White        Black       Native        Asian      Pacific  ...  \\\n",
              "count  3220.000000  3220.000000  3220.000000  3220.000000  3220.000000  ...   \n",
              "mean     75.428789     8.665497     1.723509     1.229068     0.082733  ...   \n",
              "std      22.932890    14.279122     7.253115     2.633079     0.734931  ...   \n",
              "min       0.000000     0.000000     0.000000     0.000000     0.000000  ...   \n",
              "25%      64.100000     0.500000     0.100000     0.200000     0.000000  ...   \n",
              "50%      84.100000     1.900000     0.300000     0.500000     0.000000  ...   \n",
              "75%      93.200000     9.600000     0.600000     1.200000     0.000000  ...   \n",
              "max      99.800000    85.900000    92.100000    41.600000    35.300000  ...   \n",
              "\n",
              "              Walk  OtherTransp   WorkAtHome  MeanCommute      Employed  \\\n",
              "count  3220.000000  3220.000000  3220.000000  3220.000000  3.220000e+03   \n",
              "mean      3.323509     1.612733     4.631770    23.278758  4.559352e+04   \n",
              "std       3.756096     1.670988     3.178772     5.600466  1.496995e+05   \n",
              "min       0.000000     0.000000     0.000000     4.900000  6.200000e+01   \n",
              "25%       1.400000     0.900000     2.700000    19.500000  4.550750e+03   \n",
              "50%       2.400000     1.300000     3.900000    23.000000  1.050800e+04   \n",
              "75%       4.000000     1.900000     5.600000    26.800000  2.863275e+04   \n",
              "max      71.200000    39.100000    37.200000    44.000000  4.635465e+06   \n",
              "\n",
              "       PrivateWork   PublicWork  SelfEmployed   FamilyWork  Unemployment  \n",
              "count  3220.000000  3220.000000   3220.000000  3220.000000   3220.000000  \n",
              "mean     74.219348    17.560870      7.931801     0.288106      8.094441  \n",
              "std       7.863188     6.510354      3.914974     0.455137      4.096114  \n",
              "min      25.000000     5.800000      0.000000     0.000000      0.000000  \n",
              "25%      70.500000    13.100000      5.400000     0.100000      5.500000  \n",
              "50%      75.700000    16.200000      6.900000     0.200000      7.600000  \n",
              "75%      79.700000    20.500000      9.400000     0.300000      9.900000  \n",
              "max      88.300000    66.200000     36.600000     9.800000     36.500000  \n",
              "\n",
              "[8 rows x 35 columns]"
            ],
            "text/html": [
              "\n",
              "  <div id=\"df-8d046c88-994b-459e-bb7c-7a72dfb6f7a8\">\n",
              "    <div class=\"colab-df-container\">\n",
              "      <div>\n",
              "<style scoped>\n",
              "    .dataframe tbody tr th:only-of-type {\n",
              "        vertical-align: middle;\n",
              "    }\n",
              "\n",
              "    .dataframe tbody tr th {\n",
              "        vertical-align: top;\n",
              "    }\n",
              "\n",
              "    .dataframe thead th {\n",
              "        text-align: right;\n",
              "    }\n",
              "</style>\n",
              "<table border=\"1\" class=\"dataframe\">\n",
              "  <thead>\n",
              "    <tr style=\"text-align: right;\">\n",
              "      <th></th>\n",
              "      <th>CensusId</th>\n",
              "      <th>TotalPop</th>\n",
              "      <th>Men</th>\n",
              "      <th>Women</th>\n",
              "      <th>Hispanic</th>\n",
              "      <th>White</th>\n",
              "      <th>Black</th>\n",
              "      <th>Native</th>\n",
              "      <th>Asian</th>\n",
              "      <th>Pacific</th>\n",
              "      <th>...</th>\n",
              "      <th>Walk</th>\n",
              "      <th>OtherTransp</th>\n",
              "      <th>WorkAtHome</th>\n",
              "      <th>MeanCommute</th>\n",
              "      <th>Employed</th>\n",
              "      <th>PrivateWork</th>\n",
              "      <th>PublicWork</th>\n",
              "      <th>SelfEmployed</th>\n",
              "      <th>FamilyWork</th>\n",
              "      <th>Unemployment</th>\n",
              "    </tr>\n",
              "  </thead>\n",
              "  <tbody>\n",
              "    <tr>\n",
              "      <th>count</th>\n",
              "      <td>3220.000000</td>\n",
              "      <td>3.220000e+03</td>\n",
              "      <td>3.220000e+03</td>\n",
              "      <td>3.220000e+03</td>\n",
              "      <td>3220.000000</td>\n",
              "      <td>3220.000000</td>\n",
              "      <td>3220.000000</td>\n",
              "      <td>3220.000000</td>\n",
              "      <td>3220.000000</td>\n",
              "      <td>3220.000000</td>\n",
              "      <td>...</td>\n",
              "      <td>3220.000000</td>\n",
              "      <td>3220.000000</td>\n",
              "      <td>3220.000000</td>\n",
              "      <td>3220.000000</td>\n",
              "      <td>3.220000e+03</td>\n",
              "      <td>3220.000000</td>\n",
              "      <td>3220.000000</td>\n",
              "      <td>3220.000000</td>\n",
              "      <td>3220.000000</td>\n",
              "      <td>3220.000000</td>\n",
              "    </tr>\n",
              "    <tr>\n",
              "      <th>mean</th>\n",
              "      <td>31393.605280</td>\n",
              "      <td>9.940935e+04</td>\n",
              "      <td>4.889694e+04</td>\n",
              "      <td>5.051241e+04</td>\n",
              "      <td>11.011522</td>\n",
              "      <td>75.428789</td>\n",
              "      <td>8.665497</td>\n",
              "      <td>1.723509</td>\n",
              "      <td>1.229068</td>\n",
              "      <td>0.082733</td>\n",
              "      <td>...</td>\n",
              "      <td>3.323509</td>\n",
              "      <td>1.612733</td>\n",
              "      <td>4.631770</td>\n",
              "      <td>23.278758</td>\n",
              "      <td>4.559352e+04</td>\n",
              "      <td>74.219348</td>\n",
              "      <td>17.560870</td>\n",
              "      <td>7.931801</td>\n",
              "      <td>0.288106</td>\n",
              "      <td>8.094441</td>\n",
              "    </tr>\n",
              "    <tr>\n",
              "      <th>std</th>\n",
              "      <td>16292.078954</td>\n",
              "      <td>3.193055e+05</td>\n",
              "      <td>1.566813e+05</td>\n",
              "      <td>1.626620e+05</td>\n",
              "      <td>19.241380</td>\n",
              "      <td>22.932890</td>\n",
              "      <td>14.279122</td>\n",
              "      <td>7.253115</td>\n",
              "      <td>2.633079</td>\n",
              "      <td>0.734931</td>\n",
              "      <td>...</td>\n",
              "      <td>3.756096</td>\n",
              "      <td>1.670988</td>\n",
              "      <td>3.178772</td>\n",
              "      <td>5.600466</td>\n",
              "      <td>1.496995e+05</td>\n",
              "      <td>7.863188</td>\n",
              "      <td>6.510354</td>\n",
              "      <td>3.914974</td>\n",
              "      <td>0.455137</td>\n",
              "      <td>4.096114</td>\n",
              "    </tr>\n",
              "    <tr>\n",
              "      <th>min</th>\n",
              "      <td>1001.000000</td>\n",
              "      <td>8.500000e+01</td>\n",
              "      <td>4.200000e+01</td>\n",
              "      <td>4.300000e+01</td>\n",
              "      <td>0.000000</td>\n",
              "      <td>0.000000</td>\n",
              "      <td>0.000000</td>\n",
              "      <td>0.000000</td>\n",
              "      <td>0.000000</td>\n",
              "      <td>0.000000</td>\n",
              "      <td>...</td>\n",
              "      <td>0.000000</td>\n",
              "      <td>0.000000</td>\n",
              "      <td>0.000000</td>\n",
              "      <td>4.900000</td>\n",
              "      <td>6.200000e+01</td>\n",
              "      <td>25.000000</td>\n",
              "      <td>5.800000</td>\n",
              "      <td>0.000000</td>\n",
              "      <td>0.000000</td>\n",
              "      <td>0.000000</td>\n",
              "    </tr>\n",
              "    <tr>\n",
              "      <th>25%</th>\n",
              "      <td>19032.500000</td>\n",
              "      <td>1.121800e+04</td>\n",
              "      <td>5.637250e+03</td>\n",
              "      <td>5.572000e+03</td>\n",
              "      <td>1.900000</td>\n",
              "      <td>64.100000</td>\n",
              "      <td>0.500000</td>\n",
              "      <td>0.100000</td>\n",
              "      <td>0.200000</td>\n",
              "      <td>0.000000</td>\n",
              "      <td>...</td>\n",
              "      <td>1.400000</td>\n",
              "      <td>0.900000</td>\n",
              "      <td>2.700000</td>\n",
              "      <td>19.500000</td>\n",
              "      <td>4.550750e+03</td>\n",
              "      <td>70.500000</td>\n",
              "      <td>13.100000</td>\n",
              "      <td>5.400000</td>\n",
              "      <td>0.100000</td>\n",
              "      <td>5.500000</td>\n",
              "    </tr>\n",
              "    <tr>\n",
              "      <th>50%</th>\n",
              "      <td>30024.000000</td>\n",
              "      <td>2.603500e+04</td>\n",
              "      <td>1.293200e+04</td>\n",
              "      <td>1.305700e+04</td>\n",
              "      <td>3.900000</td>\n",
              "      <td>84.100000</td>\n",
              "      <td>1.900000</td>\n",
              "      <td>0.300000</td>\n",
              "      <td>0.500000</td>\n",
              "      <td>0.000000</td>\n",
              "      <td>...</td>\n",
              "      <td>2.400000</td>\n",
              "      <td>1.300000</td>\n",
              "      <td>3.900000</td>\n",
              "      <td>23.000000</td>\n",
              "      <td>1.050800e+04</td>\n",
              "      <td>75.700000</td>\n",
              "      <td>16.200000</td>\n",
              "      <td>6.900000</td>\n",
              "      <td>0.200000</td>\n",
              "      <td>7.600000</td>\n",
              "    </tr>\n",
              "    <tr>\n",
              "      <th>75%</th>\n",
              "      <td>46105.500000</td>\n",
              "      <td>6.643050e+04</td>\n",
              "      <td>3.299275e+04</td>\n",
              "      <td>3.348750e+04</td>\n",
              "      <td>9.825000</td>\n",
              "      <td>93.200000</td>\n",
              "      <td>9.600000</td>\n",
              "      <td>0.600000</td>\n",
              "      <td>1.200000</td>\n",
              "      <td>0.000000</td>\n",
              "      <td>...</td>\n",
              "      <td>4.000000</td>\n",
              "      <td>1.900000</td>\n",
              "      <td>5.600000</td>\n",
              "      <td>26.800000</td>\n",
              "      <td>2.863275e+04</td>\n",
              "      <td>79.700000</td>\n",
              "      <td>20.500000</td>\n",
              "      <td>9.400000</td>\n",
              "      <td>0.300000</td>\n",
              "      <td>9.900000</td>\n",
              "    </tr>\n",
              "    <tr>\n",
              "      <th>max</th>\n",
              "      <td>72153.000000</td>\n",
              "      <td>1.003839e+07</td>\n",
              "      <td>4.945351e+06</td>\n",
              "      <td>5.093037e+06</td>\n",
              "      <td>99.900000</td>\n",
              "      <td>99.800000</td>\n",
              "      <td>85.900000</td>\n",
              "      <td>92.100000</td>\n",
              "      <td>41.600000</td>\n",
              "      <td>35.300000</td>\n",
              "      <td>...</td>\n",
              "      <td>71.200000</td>\n",
              "      <td>39.100000</td>\n",
              "      <td>37.200000</td>\n",
              "      <td>44.000000</td>\n",
              "      <td>4.635465e+06</td>\n",
              "      <td>88.300000</td>\n",
              "      <td>66.200000</td>\n",
              "      <td>36.600000</td>\n",
              "      <td>9.800000</td>\n",
              "      <td>36.500000</td>\n",
              "    </tr>\n",
              "  </tbody>\n",
              "</table>\n",
              "<p>8 rows × 35 columns</p>\n",
              "</div>\n",
              "      <button class=\"colab-df-convert\" onclick=\"convertToInteractive('df-8d046c88-994b-459e-bb7c-7a72dfb6f7a8')\"\n",
              "              title=\"Convert this dataframe to an interactive table.\"\n",
              "              style=\"display:none;\">\n",
              "        \n",
              "  <svg xmlns=\"http://www.w3.org/2000/svg\" height=\"24px\"viewBox=\"0 0 24 24\"\n",
              "       width=\"24px\">\n",
              "    <path d=\"M0 0h24v24H0V0z\" fill=\"none\"/>\n",
              "    <path d=\"M18.56 5.44l.94 2.06.94-2.06 2.06-.94-2.06-.94-.94-2.06-.94 2.06-2.06.94zm-11 1L8.5 8.5l.94-2.06 2.06-.94-2.06-.94L8.5 2.5l-.94 2.06-2.06.94zm10 10l.94 2.06.94-2.06 2.06-.94-2.06-.94-.94-2.06-.94 2.06-2.06.94z\"/><path d=\"M17.41 7.96l-1.37-1.37c-.4-.4-.92-.59-1.43-.59-.52 0-1.04.2-1.43.59L10.3 9.45l-7.72 7.72c-.78.78-.78 2.05 0 2.83L4 21.41c.39.39.9.59 1.41.59.51 0 1.02-.2 1.41-.59l7.78-7.78 2.81-2.81c.8-.78.8-2.07 0-2.86zM5.41 20L4 18.59l7.72-7.72 1.47 1.35L5.41 20z\"/>\n",
              "  </svg>\n",
              "      </button>\n",
              "      \n",
              "  <style>\n",
              "    .colab-df-container {\n",
              "      display:flex;\n",
              "      flex-wrap:wrap;\n",
              "      gap: 12px;\n",
              "    }\n",
              "\n",
              "    .colab-df-convert {\n",
              "      background-color: #E8F0FE;\n",
              "      border: none;\n",
              "      border-radius: 50%;\n",
              "      cursor: pointer;\n",
              "      display: none;\n",
              "      fill: #1967D2;\n",
              "      height: 32px;\n",
              "      padding: 0 0 0 0;\n",
              "      width: 32px;\n",
              "    }\n",
              "\n",
              "    .colab-df-convert:hover {\n",
              "      background-color: #E2EBFA;\n",
              "      box-shadow: 0px 1px 2px rgba(60, 64, 67, 0.3), 0px 1px 3px 1px rgba(60, 64, 67, 0.15);\n",
              "      fill: #174EA6;\n",
              "    }\n",
              "\n",
              "    [theme=dark] .colab-df-convert {\n",
              "      background-color: #3B4455;\n",
              "      fill: #D2E3FC;\n",
              "    }\n",
              "\n",
              "    [theme=dark] .colab-df-convert:hover {\n",
              "      background-color: #434B5C;\n",
              "      box-shadow: 0px 1px 3px 1px rgba(0, 0, 0, 0.15);\n",
              "      filter: drop-shadow(0px 1px 2px rgba(0, 0, 0, 0.3));\n",
              "      fill: #FFFFFF;\n",
              "    }\n",
              "  </style>\n",
              "\n",
              "      <script>\n",
              "        const buttonEl =\n",
              "          document.querySelector('#df-8d046c88-994b-459e-bb7c-7a72dfb6f7a8 button.colab-df-convert');\n",
              "        buttonEl.style.display =\n",
              "          google.colab.kernel.accessAllowed ? 'block' : 'none';\n",
              "\n",
              "        async function convertToInteractive(key) {\n",
              "          const element = document.querySelector('#df-8d046c88-994b-459e-bb7c-7a72dfb6f7a8');\n",
              "          const dataTable =\n",
              "            await google.colab.kernel.invokeFunction('convertToInteractive',\n",
              "                                                     [key], {});\n",
              "          if (!dataTable) return;\n",
              "\n",
              "          const docLinkHtml = 'Like what you see? Visit the ' +\n",
              "            '<a target=\"_blank\" href=https://colab.research.google.com/notebooks/data_table.ipynb>data table notebook</a>'\n",
              "            + ' to learn more about interactive tables.';\n",
              "          element.innerHTML = '';\n",
              "          dataTable['output_type'] = 'display_data';\n",
              "          await google.colab.output.renderOutput(dataTable, element);\n",
              "          const docLink = document.createElement('div');\n",
              "          docLink.innerHTML = docLinkHtml;\n",
              "          element.appendChild(docLink);\n",
              "        }\n",
              "      </script>\n",
              "    </div>\n",
              "  </div>\n",
              "  "
            ]
          },
          "metadata": {},
          "execution_count": 5
        }
      ]
    },
    {
      "cell_type": "code",
      "source": [
        "#prosjecna zarada stanovnika SAD-a\n",
        "df['IncomePerCap'].mean()"
      ],
      "metadata": {
        "colab": {
          "base_uri": "https://localhost:8080/"
        },
        "id": "GKKKdXFAR7Eq",
        "outputId": "e8cc2e66-1c87-4105-e31f-a8119b5a7488"
      },
      "execution_count": null,
      "outputs": [
        {
          "output_type": "execute_result",
          "data": {
            "text/plain": [
              "23981.771739130436"
            ]
          },
          "metadata": {},
          "execution_count": 6
        }
      ]
    },
    {
      "cell_type": "code",
      "source": [
        "#medijalna plaća\n",
        "df['IncomePerCap'].median()"
      ],
      "metadata": {
        "colab": {
          "base_uri": "https://localhost:8080/"
        },
        "id": "6tRJ8vCZS5EJ",
        "outputId": "7a496e2a-964a-4561-c199-c85e5565eb64"
      },
      "execution_count": null,
      "outputs": [
        {
          "output_type": "execute_result",
          "data": {
            "text/plain": [
              "23460.0"
            ]
          },
          "metadata": {},
          "execution_count": 7
        }
      ]
    },
    {
      "cell_type": "markdown",
      "source": [
        "Pokušajte steći dublji uvid u prihod po stanovniku. Može li se prepoznati distribucija iz koje potječi ovi podaci? Potkrijepite Vaš zaključak grafičkom metodom i rezultatima statističkog testa."
      ],
      "metadata": {
        "id": "bDBpBq0LrCh2"
      }
    },
    {
      "cell_type": "code",
      "source": [
        "#pd.crosstab(df['IncomePerCap'], 1)  \n",
        "\n",
        "plt.hist(df['IncomePerCap'],bins=20)\n",
        "plt.show()\n",
        "\n",
        "diagnostic.kstest_normal(df['IncomePerCap'], dist='norm')  \n",
        "# D  i  p -vrijednost testa (0.0009999)\n",
        "# p-vrijednost je manja od 0.05 pa odbacujemo nultu hipotezu da je normalna distribucija\n",
        "# izgledom kao Poissonova"
      ],
      "metadata": {
        "id": "bKMFtGPsrYtn",
        "colab": {
          "base_uri": "https://localhost:8080/",
          "height": 447
        },
        "outputId": "d2fd0858-f32f-4f8d-e31f-35fcee25fc1c"
      },
      "execution_count": null,
      "outputs": [
        {
          "output_type": "display_data",
          "data": {
            "text/plain": [
              "<Figure size 640x480 with 1 Axes>"
            ],
            "image/png": "[encoded data removed]"
          },
          "metadata": {}
        },
        {
          "output_type": "execute_result",
          "data": {
            "text/plain": [
              "(0.0637621121184162, 0.0009999999999998899)"
            ]
          },
          "metadata": {},
          "execution_count": 10
        }
      ]
    },
    {
      "cell_type": "markdown",
      "source": [
        "Izračunajte osnovne mjere u okviru deskriptivne statistike za broj stanovnika države (*TotalPop*) te prokomentirajte dobivene rezultate."
      ],
      "metadata": {
        "id": "1BUpMvk5sECu"
      }
    },
    {
      "cell_type": "code",
      "source": [
        "# Deskriptivna statistika u osnovi opisuje podatke pomoću mjera središnje tendencije, mjera varijabilnosti te distribucije učestalosti. \n",
        "#Mjere središnje tendencije uključuju srednju vrijednost, medijan i mod, dok mjere varijabilnosti uključuju standardnu devijaciju, varijancu, \n",
        "#minimalne i maksimalne vrijednosti, zaobljenost (engl. kurtosis) te asimetriju (engl. skewness). Mjera distribucije učestalosti opisuje \n",
        "#učestalost podataka unutar skupa podataka (count).  \n",
        "\n",
        "total_population=df['TotalPop']\n",
        "\n",
        "\n",
        "#srednja vrijednost\n",
        "total_population.mean()  \n",
        "#99409.34596273291  \n",
        "\n",
        "#medijan\n",
        "total_population.median()\n",
        "#26035.0\n",
        "\n",
        "#mod \n",
        "total_population.mode()\n",
        "\n",
        "#standardna devijacija\n",
        "total_population.std() \n",
        "#319305.45373083575\n",
        "\n",
        "#varijanca\n",
        "np.var(total_population)\n",
        "#101924309436.67035\n",
        "\n",
        "#min i max vrijednosti\n",
        "total_population.min()\n",
        "#85\n",
        "total_population.max()\n",
        "#10038388\n",
        "\n",
        "#zaobljenost\n",
        "total_population.kurtosis()\n",
        "#341.9011231303699\n",
        "\n",
        "#asimetrija\n",
        "skew(total_population)\n",
        "#14.287924209598035\n",
        "\n",
        "#count\n",
        "total_population.count()\n",
        "#3220"
      ],
      "metadata": {
        "id": "i4wmEVvcsMKt",
        "colab": {
          "base_uri": "https://localhost:8080/"
        },
        "outputId": "d2ed1dda-5de9-4ad8-9ce8-ea377ebff7ec"
      },
      "execution_count": null,
      "outputs": [
        {
          "output_type": "execute_result",
          "data": {
            "text/plain": [
              "3220"
            ]
          },
          "metadata": {},
          "execution_count": 29
        }
      ]
    },
    {
      "cell_type": "markdown",
      "source": [
        "Pokušajte steći dublji uvid u broj stanovnika. Može li se prepoznati distribucija iz koje potječu ovi podaci? Potkrijepite Vaš zaključak grafičkom metodom i rezultatima statističkog testa."
      ],
      "metadata": {
        "id": "8TLicrlzsQs-"
      }
    },
    {
      "cell_type": "code",
      "source": [
        "#Bolji uvid u distribuciju iz koje potječu naši podaci mogu nam pružiti tzv. testovi ponašanja po distribuciji \n",
        "#(engl. goodness-of-fit tests). Jedan od najpoznatijih takvih testova jest Kolmogorov-Smirnov test (K-S Test). \n",
        "#Ovaj test provjerava usklađenost promatrane distribucije s nekom teorijskom distribucijom. Idealan je za male veličine uzorka.\n",
        "\n",
        "#Za prepoznavanje distribucije iz koje podaci potječu mogu se koristiti dijagrami koji vizualno prikazuju distribuciju podataka \n",
        "#ili veze između varijabli. Najjednostavniji uvid u izgled distribucije podataka daje nam histogram.\n",
        "\n",
        "plt.hist(df['TotalPop'], bins=50)\n",
        "diagnostic.kstest_normal(df['TotalPop'], dist='norm')  \n",
        "\n",
        "#Ovaj test vraća kritičnu vrijednost  D  i  p -vrijednost testa. \n",
        "#Ako je  p -vrijednost manja od 0.05, znači da možemo odbaciti nultu hipotezu da podaci potječu iz normalne distribucije. \n"
      ],
      "metadata": {
        "id": "QmEByV10sZrW",
        "colab": {
          "base_uri": "https://localhost:8080/",
          "height": 465
        },
        "outputId": "a8961721-4c46-4c8a-8ec2-3b020bd77528"
      },
      "execution_count": null,
      "outputs": [
        {
          "output_type": "execute_result",
          "data": {
            "text/plain": [
              "(0.37787608613878587, 0.0009999999999998899)"
            ]
          },
          "metadata": {},
          "execution_count": 30
        },
        {
          "output_type": "display_data",
          "data": {
            "text/plain": [
              "<Figure size 640x480 with 1 Axes>"
            ],
            "image/png": "[encoded data removed]"
          },
          "metadata": {}
        }
      ]
    },
    {
      "cell_type": "markdown",
      "source": [
        "## **Zadatak 2: Ispitivanje odnosa između dvije varijable**\n",
        "\n",
        "Pokušajte odgovoriti na pitanje je li dohodak po stanovniku države u korelaciji s nezaposlenošću. Ispitajte i linearnu i monotonu korelaciju."
      ],
      "metadata": {
        "id": "6wA3OPzdtxzV"
      }
    },
    {
      "cell_type": "code",
      "source": [
        "# correlation = df['IncomePerCap'].corr(df['Unemployment'])\n",
        "# print(correlation)\n",
        "# -0.5475960044237943\n",
        "\n",
        "#Negativno koreliraju (smanjenjem Unemployment-a raste IncomePerCap)\n",
        "\n",
        "#Pearsonov koeficijent korelacije koristi se u slučajevima kada između varijabli postoji linearna povezanost te je njihova distribucija neprekidna. \n",
        "#Vrijednost ovog koeficijenta kreće se od +1 (savršena pozitivna korelacija) do -1 (savršena negativna korelacija).\n",
        "\n",
        "stats.pearsonr(df['IncomePerCap'], df['Unemployment']) #linearna korelacija\n"
      ],
      "metadata": {
        "id": "uRSuDK21uQ9l",
        "colab": {
          "base_uri": "https://localhost:8080/"
        },
        "outputId": "49e46b02-c4d2-4011-8149-2feff870c3ef"
      },
      "execution_count": null,
      "outputs": [
        {
          "output_type": "execute_result",
          "data": {
            "text/plain": [
              "PearsonRResult(statistic=-0.5475960044237943, pvalue=2.043834312917008e-251)"
            ]
          },
          "metadata": {},
          "execution_count": 34
        }
      ]
    },
    {
      "cell_type": "code",
      "source": [
        "stats.spearmanr(df['IncomePerCap'], df['Unemployment'])  #monotona korelacija"
      ],
      "metadata": {
        "colab": {
          "base_uri": "https://localhost:8080/"
        },
        "id": "7JIpz0bEfVdD",
        "outputId": "2834cf72-de7c-4734-e8d7-ee53eb7fa798"
      },
      "execution_count": null,
      "outputs": [
        {
          "output_type": "execute_result",
          "data": {
            "text/plain": [
              "SignificanceResult(statistic=-0.5610346008485645, pvalue=1.861766816019713e-266)"
            ]
          },
          "metadata": {},
          "execution_count": 35
        }
      ]
    },
    {
      "cell_type": "markdown",
      "source": [
        "## **Zadatak 3: Testiranje hipoteza**\n",
        "\n",
        "Zarađuju li stanovnici države New York više od stanovnika države Kalifornija? Pokušajte dati odgovor na ovo pitanje pomoću deskriptivne statistike."
      ],
      "metadata": {
        "id": "r8KFGmUYuSiV"
      }
    },
    {
      "cell_type": "code",
      "source": [
        "newyork_df = df[df['State'] == 'New York'] #62 stanovnika\n",
        "california_df = df[df['State'] == 'California'] #58 stanovnika\n",
        "\n",
        "#srednja vrijednost\n",
        "newyork_mean_income = newyork_df['IncomePerCap'].mean()\n",
        "california_mean_income = california_df['IncomePerCap'].mean()\n",
        "\n",
        "print(f\"NY mean income: ${newyork_mean_income:,.2f}\")\n",
        "print(f\"C mean income: ${california_mean_income:,.2f}\")\n",
        "\n",
        "#median\n",
        "newyork_median_income = newyork_df['IncomePerCap'].median()\n",
        "california_median_income = california_df['IncomePerCap'].median()\n",
        "\n",
        "print(f\"NY median income: ${newyork_median_income:,.2f}\")\n",
        "print(f\"C median income: ${california_median_income:,.2f}\")\n",
        "\n",
        "# Plot\n",
        "plt.hist(newyork_df['IncomePerCap'], alpha=0.6, label='New York')\n",
        "plt.hist(california_df['IncomePerCap'], alpha=0.6, label='California')\n",
        "plt.xlabel('Income')\n",
        "plt.ylabel('Frequency')\n",
        "plt.legend()\n",
        "plt.show()\n",
        "\n",
        "#Gledajući srednju vrijednost i graf zaključili bi da je zarada veća u New York-u, ali medijan govori drugačije"
      ],
      "metadata": {
        "id": "9Zr9QSFLunEn",
        "colab": {
          "base_uri": "https://localhost:8080/",
          "height": 518
        },
        "outputId": "e5cd9bf9-64b0-433c-a64b-e694d67c733b"
      },
      "execution_count": null,
      "outputs": [
        {
          "output_type": "stream",
          "name": "stdout",
          "text": [
            "NY mean income: $28,189.76\n",
            "C mean income: $27,902.60\n",
            "NY median income: $25,891.00\n",
            "C median income: $27,146.50\n"
          ]
        },
        {
          "output_type": "display_data",
          "data": {
            "text/plain": [
              "<Figure size 640x480 with 1 Axes>"
            ],
            "image/png": "[encoded data removed]"
          },
          "metadata": {}
        }
      ]
    },
    {
      "cell_type": "markdown",
      "source": [
        "Kako bi potkrijepili dobivene zaključke, provedite testiranje hipoteza. Neka nulta hipoteza pretpostavlja da nema statistički značajne razlike u dohotku stanovnika ovih država. Testirajte hipotezu pomoću dvostranog t-testa (*two-sided t-test*). Prokomentirajte dobivenu $p$-vrijednost te donesite zaključak."
      ],
      "metadata": {
        "id": "OLt7u6QKuoZm"
      }
    },
    {
      "cell_type": "code",
      "source": [
        "#print('Descriptive statistics for New York:', newyork_df.describe())\n",
        "#print('Descriptive statistics for California:', california_df.describe())\n",
        "\n",
        "\n",
        "t_statistic, p_value = stats.ttest_ind(newyork_df['IncomePerCap'], california_df['IncomePerCap'], equal_var=False)\n",
        "print('T-test p-value:',t_statistic, p_value)\n",
        "\n",
        "#ZAKLJ: Vjerojatnost je velika (0.844) zato prihvaćamo H0 koja glasi: nema statistički značajne razlike u dohotku stanovnika NY i stanovnika Kalifornije\n"
      ],
      "metadata": {
        "id": "XW2oCWvBvGqe",
        "colab": {
          "base_uri": "https://localhost:8080/"
        },
        "outputId": "1c7e7d64-b088-4f9b-8524-9eeafa21f8b8"
      },
      "execution_count": null,
      "outputs": [
        {
          "output_type": "stream",
          "name": "stdout",
          "text": [
            "T-test p-value: 0.19665849300151653 0.8444542920395708\n"
          ]
        }
      ]
    },
    {
      "cell_type": "markdown",
      "source": [
        "## **Zadatak 4: Kvantificiranje nesigurnosti**\n",
        "\n",
        "Ponovno promotrimo pitanje zarađuju li stanovnici države New York više od stanovnika države Kalifornija. Ovaj put pokušajte odgovoriti na pitanje pomoću intervala pouzdanosti s razinom pouzdanosti od 95%. Uz izračun, vizualizirajte intervale pouzdanosti na stupčastim dijagramima. \n",
        "Pomoć: provjerite preklapaju li se intervali za ove države."
      ],
      "metadata": {
        "id": "abB88OPUvJXN"
      }
    },
    {
      "cell_type": "code",
      "source": [
        "import scipy.stats as st\n",
        "\n",
        "ny = newyork_df['IncomePerCap']\n",
        "c = california_df['IncomePerCap']\n",
        "\n",
        "ny_interval = st.t.interval(confidence=0.95, df=len(ny)-1, loc=np.mean(ny), scale=st.sem(ny))\n",
        "c_interval = st.t.interval(confidence=0.95, df=len(c)-1, loc=np.mean(c), scale=st.sem(c))\n",
        "\n",
        "print('95% confidence interval for New York:', ny_interval)\n",
        "print('95% confidence interval for California:', c_interval)\n",
        "\n"
      ],
      "metadata": {
        "id": "1cvoBHOlv8Rd",
        "colab": {
          "base_uri": "https://localhost:8080/"
        },
        "outputId": "f51f45ea-ce89-4fba-ae50-536cc9e24471"
      },
      "execution_count": null,
      "outputs": [
        {
          "output_type": "stream",
          "name": "stdout",
          "text": [
            "95% confidence interval for New York: (26362.11277119949, 30017.40335783277)\n",
            "95% confidence interval for California: (25622.335110090782, 30182.871786460943)\n"
          ]
        }
      ]
    },
    {
      "cell_type": "markdown",
      "source": [
        "## **Zadatak 5: Jačanje gospodarstva poticanjem samozapošljavanja**\n",
        "\n",
        "Pretpostavimo da je najveći prioritet lokalne uprave u 2018. godini povećanje dohotka po glavi stanovnika. U tu svrhu, dužnosnici planiraju usvojiti strategiju poticanja samozapošljavanja kroz niz kampanja, obrazovnih programa i namjenskih sredstava.\n",
        "\n",
        "Budući da je neetično i nemoguće u ovom okruženju provoditi kontrolirani eksperiment koji uključuje građane (primjerice, otpustiti zaposlenike i prisiliti ih na samozapošljavanje), dužnosnici su od Vas zatražili da utvrdite učinak samozapošljavanja na gospodarstva, oslanjajući se na podatke iz danog skupa podataka."
      ],
      "metadata": {
        "id": "YYrfZvxCv-BW"
      }
    },
    {
      "cell_type": "markdown",
      "source": [
        "Koristeći odgovarajuće grafičke i statističke metode, odredite i kvantificirajte vezu između postotka samozaposlenih građana (*SelfEmployed*) i dohotka po glavi stanovnika u svih 3212 država SAD-a. Zarađuju li građani u državama koje imaju veći postotak samozaposlenih više po glavi stanovnika?"
      ],
      "metadata": {
        "id": "H-_2YLcBwiMC"
      }
    },
    {
      "cell_type": "code",
      "source": [
        "plt.scatter(df['SelfEmployed'], df['IncomePerCap'], s=20)\n",
        "plt.xlabel('Self employed')\n",
        "plt.ylabel('IncomePerCap')\n",
        "\n",
        "x=['SelfEmployed','IncomePerCap']\n",
        "self_employed_income = df[x]\n",
        "\n",
        "#pd.crosstab(self_employed_income['SelfEmployed'], self_employed_income['SelfEmployed'])\n",
        "\n",
        "stats.pearsonr(df['IncomePerCap'], df['Unemployment'])\n",
        "#Nemaju utjecaja jedno na drugo, tj. odbacujemo pretpostavku da veći postotak samozaposlenih donosi veći iznos po glavi stanovnika\n"
      ],
      "metadata": {
        "id": "ASwCyjF0wyW-",
        "colab": {
          "base_uri": "https://localhost:8080/",
          "height": 466
        },
        "outputId": "555a41bb-2a37-4204-c166-a89c2fb8c860"
      },
      "execution_count": null,
      "outputs": [
        {
          "output_type": "execute_result",
          "data": {
            "text/plain": [
              "PearsonRResult(statistic=-0.5475960044237943, pvalue=2.043834312917008e-251)"
            ]
          },
          "metadata": {},
          "execution_count": 56
        },
        {
          "output_type": "display_data",
          "data": {
            "text/plain": [
              "<Figure size 640x480 with 1 Axes>"
            ],
            "image/png": "[encoded data removed]"
          },
          "metadata": {}
        }
      ]
    },
    {
      "cell_type": "markdown",
      "source": [
        "Pilot program ove strategije zahvatit će sve okruge unutar ograničenog skupa od tri države. Skup A uključuje Wisconsin, Tennessee i Minnesotu. Kvantificirajte ovisnost dohotka po glavi stanovnika o stopama samozapošljavanja u skupu A."
      ],
      "metadata": {
        "id": "E-daFr46w5YV"
      }
    },
    {
      "cell_type": "code",
      "source": [
        "states_A = ['Wisconsin', 'Tennessee', 'Minnesota']\n",
        "s = df[df['State'].isin(states_A)]\n",
        "\n",
        "pd.crosstab(s['SelfEmployed'], s['IncomePerCap'])\n",
        "\n",
        "stats.spearmanr(s['SelfEmployed'], s['IncomePerCap'])\n",
        "\n",
        "plt.scatter(s['SelfEmployed'], s['IncomePerCap'], s=15)\n",
        "plt.xlabel('Self employed')\n",
        "plt.ylabel('IncomePerCap')\n"
      ],
      "metadata": {
        "id": "V2WZtaJMxLWm",
        "colab": {
          "base_uri": "https://localhost:8080/",
          "height": 466
        },
        "outputId": "656e4bb9-1b06-4aab-bee1-45136ae2cb44"
      },
      "execution_count": null,
      "outputs": [
        {
          "output_type": "execute_result",
          "data": {
            "text/plain": [
              "Text(0, 0.5, 'IncomePerCap')"
            ]
          },
          "metadata": {},
          "execution_count": 59
        },
        {
          "output_type": "display_data",
          "data": {
            "text/plain": [
              "<Figure size 640x480 with 1 Axes>"
            ],
            "image/png": "[encoded data removed]"
          },
          "metadata": {}
        }
      ]
    },
    {
      "cell_type": "markdown",
      "source": [
        "U kojoj je državi unutar skupa A opaženi učinak samozapošljavanja na dohodak po glavi stanovnika najjači? Je li ovaj učinak pozitivan ili negativan?"
      ],
      "metadata": {
        "id": "D6DK3LO-xOJu"
      }
    },
    {
      "cell_type": "code",
      "source": [
        "stats.spearmanr(s[s['State']=='Wisconsin']['SelfEmployed'], s[s['State']=='Wisconsin']['IncomePerCap'])\n",
        "#statistic=-0.46351291044049403, pvalue=4.124859155566003e-05\n",
        "\n",
        "stats.spearmanr(s[s['State']=='Tennessee']['SelfEmployed'], s[s['State']=='Tennessee']['IncomePerCap'])\n",
        "#statistic=-0.316991392780988, pvalue=0.0017487582457931406\n",
        "\n",
        "stats.spearmanr(s[s['State']=='Minnesota']['SelfEmployed'], s[s['State']=='Minnesota']['IncomePerCap'])\n",
        "#statistic=-0.21107460598245847, pvalue=0.04970805582462062\n",
        "\n",
        "#Učinak samozapošljavanja na dohodak po glavi stanovnika najjači je u Wisconsinu jer mu je korelacija najveća iako je negativna"
      ],
      "metadata": {
        "id": "cJun3ZYjxVpW",
        "colab": {
          "base_uri": "https://localhost:8080/"
        },
        "outputId": "a62493e7-4cd1-462b-ea53-9c22d069a756"
      },
      "execution_count": null,
      "outputs": [
        {
          "output_type": "execute_result",
          "data": {
            "text/plain": [
              "SignificanceResult(statistic=-0.21107460598245847, pvalue=0.04970805582462062)"
            ]
          },
          "metadata": {},
          "execution_count": 63
        }
      ]
    },
    {
      "cell_type": "markdown",
      "source": [
        "Skup B uključuje države New Jersey, Kansas i Rhode Island. Ponovite analizu iz prijašnjih koraka, ali sada za skup B. U kojem biste od dva skupa A i B preporučili poticanje samozapošljavanja? Objasnite svoje razmišljanje. Što zamjećujete kad u oba skupa promatrate korelaciju unutar svake pojedine države, a što kada promatrate korelaciju za države u cjelini?"
      ],
      "metadata": {
        "id": "c7O5Ksd5xYqu"
      }
    },
    {
      "cell_type": "code",
      "source": [
        "\n",
        "\n",
        "states_B = ['New Jersey', 'Kansas', 'Rhode Island']\n",
        "set_B = df[df['State'].isin(states_B)]\n",
        "\n",
        "\n",
        "plt.scatter(set_B['SelfEmployed'], set_B['IncomePerCap'], s=15)\n",
        "plt.xlabel('Self employed')\n",
        "plt.ylabel('IncomePerCap')\n",
        "\n",
        "stats.spearmanr(set_B[set_B['State']=='New Jersey']['SelfEmployed'], set_B[set_B['State']=='New Jersey']['IncomePerCap']) #(statistic=0.40403460177366013, pvalue=0.06929493068926951)\n",
        "stats.spearmanr(set_B[set_B['State']=='Kansas']['SelfEmployed'], set_B[set_B['State']=='Kansas']['IncomePerCap'])#(statistic=0.28392575483491556, pvalue=0.0033332825399419903)\n",
        "stats.spearmanr(set_B[set_B['State']=='Rhode Island']['SelfEmployed'], set_B[set_B['State']=='Rhode Island']['IncomePerCap'])#(statistic=0.9999999999999999, pvalue=1.4042654220543672e-24))\n",
        "\n",
        "stats.spearmanr(df['SelfEmployed'], df['IncomePerCap'])#(statistic=0.056413673053189874, pvalue=0.0013623847564714516)\n",
        "\n",
        "#Najveća korelacija je u Rhode Islandu\n"
      ],
      "metadata": {
        "id": "Q5BesEmWy-_1",
        "colab": {
          "base_uri": "https://localhost:8080/",
          "height": 466
        },
        "outputId": "da043c85-204b-44cc-c7a5-8a0d25604149"
      },
      "execution_count": null,
      "outputs": [
        {
          "output_type": "execute_result",
          "data": {
            "text/plain": [
              "SignificanceResult(statistic=0.056413673053189874, pvalue=0.0013623847564714516)"
            ]
          },
          "metadata": {},
          "execution_count": 66
        },
        {
          "output_type": "display_data",
          "data": {
            "text/plain": [
              "<Figure size 640x480 with 1 Axes>"
            ],
            "image/png": "[encoded data removed]"
          },
          "metadata": {}
        }
      ]
    }
  ]
}