{
  "nbformat": 4,
  "nbformat_minor": 0,
  "metadata": {
    "colab": {
      "provenance": [],
      "private_outputs": true
    },
    "kernelspec": {
      "name": "python3",
      "display_name": "Python 3"
    },
    "language_info": {
      "name": "python"
    },
    "gpuClass": "standard"
  },
  "cells": [
    {
      "cell_type": "markdown",
      "source": [
        "# **Laboratorijska vježba 1**: Zadaci za samostalni rad\n",
        "## **Podaci iz Svjetskog izvješća o sreći**\n",
        "\n",
        "Svjetsko izvješće o sreći godišnja je publikacija Mreže rješenja za održivi razvoj Ujedinjenih naroda (engl. *United Nations Sustainable Development Solutions Network*). Sadrži članke i ljestvice nacionalne sreće na temelju ocjena vlastitog života ispitanika, koje izvješće također povezuje s različitim životnim čimbenicima.\n",
        "\n",
        "U ovoj laboratorijskoj vježbi istražit ćemo sreću u različitim zemljama i povezana obilježja. Skupovi podataka koje ćemo koristiti dostupni su u *Data/happiness2020.csv* i *Data/countries_info.csv*.\n",
        "\n",
        "U nastavku je dan sažetak stupaca (značajki) u skupu podataka:\n",
        "\n",
        "**happines2020.csv**\n",
        "\n",
        "*   country - naziv države\n",
        "*   happiness_score - ocjena sreće\n",
        "*   social_support - socijalna podrška (ublažavanje učinaka nejednakosti)\n",
        "*   healthy_life_expectancy - očekivanji zdravi životni vijek\n",
        "*   freedom_of_choices - sloboda donošenja životnih izbora\n",
        "*   generosity - velikodušnost (milosrđe, volonteri)\n",
        "*   perceptrion_of_corruption - percepcija korupcije\n",
        "*   world_region - regija države u svijetu\n",
        "\n",
        "**countries_info.csv**\n",
        "\n",
        "*   country_name - naziv države\n",
        "*   area - površina u kvadratnim miljama\n",
        "*   population - broj stanovnika\n",
        "*   literacy - postotak pismenih stanovnika\n",
        "\n",
        "\n"
      ],
      "metadata": {
        "id": "ZuVFMCQzyEvE"
      }
    },
    {
      "cell_type": "code",
      "source": [
        "!head Data/countries_info.csv"
      ],
      "metadata": {
        "id": "lnXscYNs1DA8"
      },
      "execution_count": null,
      "outputs": []
    },
    {
      "cell_type": "code",
      "source": [
        "import pandas as pd\n",
        "\n",
        "DATA_FOLDER = 'Data/'\n",
        "\n",
        "HAPPINESS_DATASET = DATA_FOLDER+\"happiness2020.csv\"\n",
        "COUNTRIES_DATASET = DATA_FOLDER+\"countries_info.csv\""
      ],
      "metadata": {
        "id": "Lg7HzyJS1FPh"
      },
      "execution_count": null,
      "outputs": []
    },
    {
      "cell_type": "markdown",
      "source": [
        "## **Zadatak 1: Učitavanje podataka**\n",
        "\n",
        "Učitajte 2 skupa podataka u Pandas DataFrame-ove (zvane *happiness* i *countries*) te prikažite prve retke. Koristite ispravnu metodu za učitavanje podataka i provjerite jesu li podaci u očekivanom formatu."
      ],
      "metadata": {
        "id": "aPvu4KlI2hsz"
      }
    },
    {
      "cell_type": "code",
      "source": [
        "happiness = pd.read_csv(HAPPINESS_DATASET, sep=',')\n",
        "happiness.head()"
      ],
      "metadata": {
        "id": "eFy_vajW23Ed"
      },
      "execution_count": null,
      "outputs": []
    },
    {
      "cell_type": "code",
      "source": [
        "countries = pd.read_csv(COUNTRIES_DATASET, sep=',')\n",
        "countries.head()"
      ],
      "metadata": {
        "id": "8jhdzfTS5FAl"
      },
      "execution_count": null,
      "outputs": []
    },
    {
      "cell_type": "markdown",
      "source": [
        "## **Zadatak 2: Spajanje podataka**\n",
        "\n",
        "Kreirajte DataFrame pod nazivom *country_features* spajanjem prethodno stvorena 2 DataFrame-a. Redak novog DataFrame-a mora opisivati sve značajke koje imamo o nekoj državi.\n"
      ],
      "metadata": {
        "id": "F59c7RzS25Y4"
      }
    },
    {
      "cell_type": "code",
      "source": [
        "new_happiness =happiness.rename(columns={\"country\":\"country_name\"})\n",
        "new_happiness['country_name']= new_happiness['country_name'].str.lower()\n",
        "\n",
        "country_features = pd.merge(new_happiness, countries, how='outer')\n",
        "country_features.head()"
      ],
      "metadata": {
        "id": "BgEu4c3I3PND"
      },
      "execution_count": null,
      "outputs": []
    },
    {
      "cell_type": "markdown",
      "source": [
        "## **Zadatak 3: Gdje su ljudi sretniji?**\n",
        "\n",
        "Ispišite prvih 10 država na temelju njihove ocjene sreće (što je veća ocjena, država je sretnija).\n"
      ],
      "metadata": {
        "id": "5GwITyV03RAQ"
      }
    },
    {
      "cell_type": "code",
      "source": [
        "happiness_in_countries = new_happiness.sort_values(ascending=False, by='happiness_score').head(10)\n",
        "happiness_in_countries"
      ],
      "metadata": {
        "id": "cklYDWN_3ecJ"
      },
      "execution_count": null,
      "outputs": []
    },
    {
      "cell_type": "markdown",
      "source": [],
      "metadata": {
        "id": "R42dQi8bI4FD"
      }
    },
    {
      "cell_type": "markdown",
      "source": [],
      "metadata": {
        "id": "h_UW56ksI4Cb"
      }
    },
    {
      "cell_type": "markdown",
      "source": [
        "Zanima nas u kojoj su regiji svijeta ljudi sretniji.\n",
        "\n",
        "Izradite i ispišite DataFrame s:\n",
        "1.   Prosječnom ocjenom sreće\n",
        "2.   Brojem zemalja za svaku svjetsku regiju.\n",
        "\n",
        "Poredajte rezultat da biste prikazali rangiranje sreće."
      ],
      "metadata": {
        "id": "LIbSXMUp3gSS"
      }
    },
    {
      "cell_type": "code",
      "source": [
        "happpiness_grouped = new_happiness.groupby(new_happiness.world_region)\n",
        "happpiness_in_regions = happpiness_grouped['happiness_score'].agg('mean')\n",
        "\n",
        "happpiness_in_regions"
      ],
      "metadata": {
        "id": "-NR_ejX13ukg"
      },
      "execution_count": null,
      "outputs": []
    },
    {
      "cell_type": "code",
      "source": [
        "countries_in_regions = happpiness_grouped.agg('count')\n",
        "countries_in_regions['country_name']"
      ],
      "metadata": {
        "id": "JFP45xj6CT3j"
      },
      "execution_count": null,
      "outputs": []
    },
    {
      "cell_type": "markdown",
      "source": [
        "Najbolje rangirana regija ima samo nekoliko država! Koje su to i koji je njihov rezultat sreće?"
      ],
      "metadata": {
        "id": "maeBfNgZ3wR4"
      }
    },
    {
      "cell_type": "code",
      "source": [
        "best_region_countries = country_features.groupby(\"world_region\", as_index=False)[\"happiness_score\"].mean().sort_values(by=\"happiness_score\", ascending=False).values[0][0]\n",
        "country_features.query(\"world_region==@best_region_countries\")   \n"
      ],
      "metadata": {
        "id": "azkW8Hjx33Cx"
      },
      "execution_count": null,
      "outputs": []
    },
    {
      "cell_type": "markdown",
      "source": [
        "## **Zadatak 4: Koliko je svijet pismen?**\n",
        "\n",
        "Ispišite nazive država s razinom pismenosti od 100%.\n",
        "\n",
        "Za svaku zemlju ispište naziv i regiju svijeta u formatu: {ime regije}-{ime zemlje} ({ocjena sreće}).\n"
      ],
      "metadata": {
        "id": "SGA1xleS345X"
      }
    },
    {
      "cell_type": "code",
      "source": [
        "country_literacy_100 = country_features.query('literacy==\"100,0\"')[['world_region', 'country_name', 'happiness_score']]\n",
        "country_literacy_100"
      ],
      "metadata": {
        "id": "4D8CI5464I2w"
      },
      "execution_count": null,
      "outputs": []
    },
    {
      "cell_type": "markdown",
      "source": [
        "Koliki je globalni prosjek razine pismenosti?"
      ],
      "metadata": {
        "id": "7ayq3sQU4J8v"
      }
    },
    {
      "cell_type": "code",
      "source": [
        "global_percent = country_features.literacy.str.replace(',','.').astype(float).mean()"
      ],
      "metadata": {
        "id": "VwwxSS1N4OeB"
      },
      "execution_count": null,
      "outputs": []
    },
    {
      "cell_type": "markdown",
      "source": [
        "Izračunajte udio zemalja s razinom pismenosti ispod 50%. Ispišite vrijednost u postotcima, formatiranu s 2 decimale."
      ],
      "metadata": {
        "id": "gCX2gklg4Q0R"
      }
    },
    {
      "cell_type": "code",
      "source": [
        "#def literacy_50(country_literacy, num_countries):\n",
        "#  return \"%.2f\"(country_literacy/num_countries)*100\n",
        "\n",
        "new_table = country_features.copy()\n",
        "new_table['literacy'] = new_table['literacy'].str.replace(',','.').astype(float)\n",
        "\n",
        "literacy_below_50 = new_table.query(\"literacy < 50.0\")\n",
        "literacy_below_50 = len(literacy_below_50)\n",
        "num_of_countries = len(new_table)\n",
        "\n",
        "result=\"%.2f\"%(literacy_below_50 /num_of_countries)*100\n",
        "result"
      ],
      "metadata": {
        "id": "IoVTBxwt4Wao"
      },
      "execution_count": null,
      "outputs": []
    },
    {
      "cell_type": "markdown",
      "source": [
        "Ispišite neobrađeni broj i postotak nepismenog svjetskog stanovništva."
      ],
      "metadata": {
        "id": "MdcC6cY-4Y9Y"
      }
    },
    {
      "cell_type": "code",
      "source": [
        "population = new_table['population'].sum()\n",
        "literate_population = population * (global_percent/100)\n",
        "illiterate_population=population - literate_population\n",
        "\n",
        "\n",
        "percent_illiterate = '%.2f'%(illiterate_population/population)\n",
        "[illiterate_population,percent_illiterate]"
      ],
      "metadata": {
        "id": "SXxdzxHU4dX5"
      },
      "execution_count": null,
      "outputs": []
    },
    {
      "cell_type": "markdown",
      "source": [
        "## **Zadatak 5: Gustoća naseljenosti**\n",
        "\n",
        "Dodajte DataFrame-u *country_features* novi stupac zvan *population_density* koji se dobije dijeljenjem stupca *population* sa stupcem *area*."
      ],
      "metadata": {
        "id": "4BNfJJSg4fAX"
      }
    },
    {
      "cell_type": "code",
      "source": [
        "country_features[\"population_density\"] = country_features[\"population\"]/country_features[\"area\"]\n",
        "country_features"
      ],
      "metadata": {
        "id": "NN0m_tvd5CB5"
      },
      "execution_count": null,
      "outputs": []
    },
    {
      "cell_type": "markdown",
      "source": [
        "Koji je rezultat sreće za 3 države s najnižom gustoćom naseljenosti?"
      ],
      "metadata": {
        "id": "EvgJ2iV75DHB"
      }
    },
    {
      "cell_type": "code",
      "source": [
        "country_features.sort_values(\"population_density\", ascending=True).head(3).happiness_score"
      ],
      "metadata": {
        "id": "SqnSkMR65HTn"
      },
      "execution_count": null,
      "outputs": []
    },
    {
      "cell_type": "markdown",
      "source": [
        "## **Zadatak 6: Zdravi i sretni?**\n",
        "\n",
        "Iscrtajte na raspršeni dijagram (engl. *scatter plot*) ocjenu sreće (x os) i očekivano trajanje zdravog života (y os)."
      ],
      "metadata": {
        "id": "M6XCsKYH5Iif"
      }
    },
    {
      "cell_type": "code",
      "source": [
        "country_features.plot.scatter(x='happiness_score', y='healthy_life_expectancy') "
      ],
      "metadata": {
        "id": "fXO6ef-MOIZU"
      },
      "execution_count": null,
      "outputs": []
    }
  ]
}